{
 "cells": [
  {
   "cell_type": "code",
   "execution_count": 2,
   "id": "680320fa-19fd-4f89-8e56-7c2225a008b6",
   "metadata": {},
   "outputs": [
    {
     "data": {
      "text/plain": [
       "'Tables are used to store and arrange data in relational databases called SQL (Structured Query Language) databases. \\nThrough the use of primary keys and foreign keys, SQL databases impose stringent guidelines for the organisation of data and the relationships between data. \\nThey offer a consistent schema that guarantees the integrity and continuity of the data. SQL databases are appropriate for apps that call for sophisticated data analysis and queries.\\n\\nContrarily, NoSQL (Not Only SQL) databases hold data using a document-based model, key-value pairs, or graphs. \\nBecause NoSQL databases lack a schema, they do not impose rigid guidelines for data arrangement and relationships like SQL databases do.\\nAs a result, they are more adaptable and capable of managing huge amounts of unstructured data.Applications that need high scalability and speed, like real-time data processing and analysis, frequently use NoSQL databases'"
      ]
     },
     "execution_count": 2,
     "metadata": {},
     "output_type": "execute_result"
    }
   ],
   "source": [
    "#Q1\n",
    "'''\n",
    "A database is a collection of structured data that is organized and managed in a way that allows for efficient storage, retrieval, and manipulation of information.\n",
    "It is designed to provide a structured and organized approach to storing and retrieving information.'''\n",
    "\n",
    "'''Tables are used to store and arrange data in relational databases called SQL (Structured Query Language) databases. \n",
    "Through the use of primary keys and foreign keys, SQL databases impose stringent guidelines for the organisation of data and the relationships between data. \n",
    "They offer a consistent schema that guarantees the integrity and continuity of the data. SQL databases are appropriate for apps that call for sophisticated data analysis and queries.\n",
    "\n",
    "Contrarily, NoSQL (Not Only SQL) databases hold data using a document-based model, key-value pairs, or graphs. \n",
    "Because NoSQL databases lack a schema, they do not impose rigid guidelines for data arrangement and relationships like SQL databases do.\n",
    "As a result, they are more adaptable and capable of managing huge amounts of unstructured data.Applications that need high scalability and speed, like real-time data processing and analysis, frequently use NoSQL databases'''"
   ]
  },
  {
   "cell_type": "code",
   "execution_count": 2,
   "id": "12cf09b5-8610-4c3d-a489-abd0403645b3",
   "metadata": {},
   "outputs": [],
   "source": [
    "#Q2\n",
    "'''DDL stands for Data Definition Language, which is a subset of SQL (Structured Query Language) used to define and manage the structure of a database.\n",
    "DDL commands are used to create, modify, and delete database objects such as tables, indexes, views, and constraints. \n",
    "These commands allow developers and database administrators to define the data types, relationships, and rules that govern the storage and retrieval of data in a database.'''\n",
    "\n",
    "#CREATE- Used to create new database objects such as tables, indexes, views, and procedures.\n",
    "CREATE TABLE customers (\n",
    "    customer_id INT PRIMARY KEY,\n",
    "    name VARCHAR(50),\n",
    "    email VARCHAR(100),\n",
    "    phone INT\n",
    ");\n",
    "\n",
    "\n",
    "#DROP- Used to remove existing database objects.\n",
    "DROP TABLE customers;#In this example, the DROP command is used to delete the \"customers\" table from the database. This command permanently removes the table and all its data, so it should be used with caution.\n",
    "DROP INDEX index_name;#Using this we can drop an index value\n",
    "\n",
    "\n",
    "#ALTER-Used to modify the structure of existing database objects such as tables and indexes.\n",
    "CREATE TABLE employees (\n",
    "  employee_id INT PRIMARY KEY,\n",
    "  first_name VARCHAR(50),\n",
    "  last_name VARCHAR(50),\n",
    "  email VARCHAR(100)\n",
    ");\n",
    "ALTER TABLE employees\n",
    "ADD hire_date DATE;\n",
    "\n",
    "'''In this example, the ALTER command is used to add a new column called \"address\" to the \"customers\" table. The column is defined as a character string data type with a maximum length of 200 characters.\n",
    "The ALTER command can also be used to modify other aspects of a table's structure, such as changing the data type of a column, renaming a column, or adding constraints to a column.\n",
    "The syntax for these commands varies depending on the type of modification being made, but the basic structure of the command is similar to the example above.'''\n",
    "\n",
    "#TRUNCATE-Used to remove all data from a table while preserving its structure.\n",
    "TRUNCATE TABLE  table_name;\n",
    "table_name: Name of the table to be truncated"
   ]
  },
  {
   "cell_type": "code",
   "execution_count": null,
   "id": "505091c6-8268-4c5b-b74e-e24b174e3094",
   "metadata": {},
   "outputs": [],
   "source": [
    "#Q3\n",
    "'''DML stands for Data Manipulation Language, which is a subset of SQL (Structured Query Language) used to manipulate data in relational databases. \n",
    "DML statements allow users to insert, update, delete, and retrieve data from a database.'''\n",
    "\n",
    "#INSERT-The INSERT statement is used to add new data to a table. \n",
    "'''Suppose we have a table named \"customers\" with columns \"customer_id\", \"first_name\", \"last_name\", and \"email\". We can use the INSERT statement to add a new row to this table:'''\n",
    "INSERT INTO customers (customer_id, first_name, last_name, email)\n",
    "VALUES (1, 'John', 'Doe', 'johndoe@example.com');\n",
    "\n",
    "#DELETE-The DELETE statement is used to remove rows of data from a table. \n",
    "'''Suppose we want to delete the row for the customer with a customer_id of 1. We can use the DELETE statement to do this:'''\n",
    "DELETE FROM customers\n",
    "WHERE customer_id = 1;\n",
    "\n",
    "#UPDATE-The UPDATE statement is used to modify existing data in a table.\n",
    "'''Suppose we want to update the email address for the customer with the customer_id of 1. We can use the UPDATE statement to do this:'''\n",
    "UPDATE customers\n",
    "SET email = 'newemail@example.com'\n",
    "WHERE customer_id = 1;\n"
   ]
  },
  {
   "cell_type": "code",
   "execution_count": null,
   "id": "17541b3e-522f-4bb7-9d3c-f79b84f5be5c",
   "metadata": {},
   "outputs": [],
   "source": [
    "#Q4\n",
    "'''DQL stands for Data Query Language, which is a subset of SQL (Structured Query Language) used to retrieve data from a database. \n",
    "DQL statements are used to query and filter data from one or more tables in a database.'''\n",
    "\n",
    "#SELECT-The most commonly used DQL statement is the SELECT statement, which is used to retrieve data from one or more tables in a database. The SELECT statement allows users to specify which columns to retrieve and which rows to filter based on specified conditions.\n",
    "\n",
    "'''Suppose we have a table named \"customers\" with columns \"customer_id\", \"first_name\", \"last_name\", and \"email\". We can use the SELECT statement to retrieve all rows from this table:'''\n",
    "SELECT *\n",
    "FROM customers;\n",
    "'''This statement will retrieve all rows and columns from the \"customers\" table.'''\n",
    "\n"
   ]
  },
  {
   "cell_type": "code",
   "execution_count": 1,
   "id": "d1d3a88b-42c9-4420-be91-750193a3d737",
   "metadata": {},
   "outputs": [
    {
     "data": {
      "text/plain": [
       "'A foreign key, on the other hand, is a field or combination of fields in a table that refers to the primary key of another table. \\nThe foreign key establishes a link or relationship between two tables, allowing data to be retrieved from both tables.\\nIt is used to enforce referential integrity, which ensures that a record in one table cannot be deleted if it is referenced by a record in another table. \\nThe foreign key can be nullable, meaning that it can have a null value if the record it references does not exist.'"
      ]
     },
     "execution_count": 1,
     "metadata": {},
     "output_type": "execute_result"
    }
   ],
   "source": [
    "#Q5\n",
    "#PRIMARY KEY\n",
    "'''A primary key is a field or combination of fields in a relational database table that uniquely identifies each record in that table. \n",
    "It must be unique, non-null, and immutable. The primary key is used as a reference for other tables to establish relationships or links between tables. \n",
    "Typically, the primary key is a single field, such as an ID number, but it can also be a combination of fields.'''\n",
    "\n",
    "#FOREIGN KEY\n",
    "'''A foreign key, on the other hand, is a field or combination of fields in a table that refers to the primary key of another table. \n",
    "The foreign key establishes a link or relationship between two tables, allowing data to be retrieved from both tables.\n",
    "It is used to enforce referential integrity, which ensures that a record in one table cannot be deleted if it is referenced by a record in another table. \n",
    "The foreign key can be nullable, meaning that it can have a null value if the record it references does not exist.'''\n"
   ]
  },
  {
   "cell_type": "code",
   "execution_count": 3,
   "id": "0c7559a6-2ccc-4fb6-bc0c-fb2c9f78a160",
   "metadata": {},
   "outputs": [],
   "source": [
    "#Q6\n",
    "\n",
    "#Connector Code\n",
    "import mysql.connector\n",
    "\n",
    "# Connect to the database\n",
    "connec = mysql.connector.connect(user='abc', password='password', host='localhost', database='database_name')\n",
    "\n",
    "# Create a cursor object\n",
    "cursor = connec.cursor()\n",
    "\n",
    "# Execute a query\n",
    "query = \"SELECT * FROM table_name\"\n",
    "cursor.execute(query)\n",
    "\n",
    "# Fetch and print the result\n",
    "result = cursor.fetchall()\n",
    "for row in result:\n",
    "    print(row)\n",
    "\n",
    "# Close the cursor and connection\n",
    "cursor.close()\n",
    "connec.close()\n",
    "\n",
    "#Cursor()\n",
    "'''cursor() is a method of the connection object, which returns a cursor object. The cursor object is used to execute SQL statements against the database and to manage the result set returned by the SQL query. \n",
    "The cursor acts as a handle to the database, allowing the program to execute SQL statements and retrieve the results.'''\n",
    "#Execute()\n",
    "'''execute() is a method of the cursor object, which is used to execute a SQL statement against the database. \n",
    "The SQL statement can be a select statement, insert statement, update statement, delete statement, or any other valid SQL statement.\n",
    "The execute method takes the SQL statement as its argument and returns a result set if the statement produces one. '''\n"
   ]
  },
  {
   "cell_type": "code",
   "execution_count": null,
   "id": "9cd14592-ea8b-4e7e-913a-42f706efa428",
   "metadata": {},
   "outputs": [],
   "source": [
    "#Q7\n",
    "\n",
    "1.SELECT - selects the columns to retrieve from the database\n",
    "2.FROM - specifies the table or tables from which to retrieve the data\n",
    "3.JOIN - joins multiple tables together based on a common column\n",
    "4.WHERE - filters the rows based on a specified condition\n",
    "5.GROUP BY - groups the rows based on a specified column or columns\n",
    "6.HAVING - filters the groups based on a specified condition\n",
    "7.ORDER BY - sorts the rows based on a specified column or columns\n",
    "\n",
    "#However this is just a general order."
   ]
  }
 ],
 "metadata": {
  "kernelspec": {
   "display_name": "Python 3 (ipykernel)",
   "language": "python",
   "name": "python3"
  },
  "language_info": {
   "codemirror_mode": {
    "name": "ipython",
    "version": 3
   },
   "file_extension": ".py",
   "mimetype": "text/x-python",
   "name": "python",
   "nbconvert_exporter": "python",
   "pygments_lexer": "ipython3",
   "version": "3.10.8"
  }
 },
 "nbformat": 4,
 "nbformat_minor": 5
}
