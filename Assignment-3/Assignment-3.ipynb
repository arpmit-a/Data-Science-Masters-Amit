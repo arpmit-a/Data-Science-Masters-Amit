{
 "cells": [
  {
   "cell_type": "markdown",
   "id": "4c564700-64ff-4f94-bc3a-d393f9b1a354",
   "metadata": {},
   "source": [
    "#Q1\n",
    "\n",
    "A Python tuple has the following characteristics: Data collections in a tuple are arranged and indexed. The tuple's first value will have the index [0], the second value [1], and so on, just as string indices. Values in duplicates can be stored.\n",
    "\n",
    "Yes. Tuple is immmuatble"
   ]
  },
  {
   "cell_type": "code",
   "execution_count": 11,
   "id": "2f5fed48-70f1-40b7-9bfd-eedab0181186",
   "metadata": {},
   "outputs": [
    {
     "name": "stdout",
     "output_type": "stream",
     "text": [
      "1\n",
      "1\n"
     ]
    }
   ],
   "source": [
    "#Q2\n",
    "a=(1,2,3)\n",
    "''' The 2 tuple methods are count and index\n",
    "Count method gives the number of timme an element is present in the tuple. \n",
    "Index method gives the index of a particular element '''\n",
    "#Example\n",
    "print(a.index(2))\n",
    "print(a.count(1))\n",
    "''' As tuple is immutable it only supports these 2 functions'''\n"
   ]
  },
  {
   "cell_type": "code",
   "execution_count": 14,
   "id": "a716d593-404c-4bf9-a68a-c4f7079e5008",
   "metadata": {},
   "outputs": [
    {
     "data": {
      "text/plain": [
       "{1, 2, 3, 4}"
      ]
     },
     "execution_count": 14,
     "metadata": {},
     "output_type": "execute_result"
    }
   ],
   "source": [
    "#Q3\n",
    "'''Sets does not suport duplicate elements'''\n",
    "List=[1, 1, 1, 2, 1, 3, 1, 4, 2, 1, 2, 2, 2, 3, 2, 4, 3, 1, 3, 2, 3, 3, 3, 4, 4, 1, 4, 2, 4, 3, 4, 4] \n",
    "List2=set(List)\n",
    "List2"
   ]
  },
  {
   "cell_type": "code",
   "execution_count": 22,
   "id": "67b6f3e1-08d7-4ff9-b21c-34775d495f39",
   "metadata": {},
   "outputs": [
    {
     "name": "stdout",
     "output_type": "stream",
     "text": [
      "{1, 2, 3, 4, 5, 6, 7}\n"
     ]
    },
    {
     "data": {
      "text/plain": [
       "{1, 2, 3, 4, 6, 7, 8, 55, 66, 90, 335}"
      ]
     },
     "execution_count": 22,
     "metadata": {},
     "output_type": "execute_result"
    }
   ],
   "source": [
    "#Q4\n",
    "'''update() and set. union() . \n",
    "The first one adds all missing elements to the set on which it is called and returns None , while the latter creates and returns a new set.\n",
    "'''\n",
    "a={1,2,3}\n",
    "b={4,5,6,7} \n",
    "b.update(a)\n",
    "print(b)\n",
    "#####\n",
    "c={1,2,3,4,6,7,8}\n",
    "d={335,55,66,90}\n",
    "c.union(d)\n",
    "''' As we can see union produces a new set'''"
   ]
  },
  {
   "cell_type": "code",
   "execution_count": 23,
   "id": "4f087e44-cbcc-42d7-b1ea-31f4b1da6112",
   "metadata": {},
   "outputs": [],
   "source": [
    "#Q5\n",
    "'''Dictionaries are used to store data values in key:value pairs.\n",
    "A dictionary is a collection which is ordered*, changeable and do not allow duplicates. \n",
    "As of Python version 3.7, dictionaries are ordered. In Python 3.6 and earlier, dictionaries are unordered.'''\n",
    "##Example\n",
    "dict={'name':'Amit','course':'PW Skills Data Science Masters'}\n"
   ]
  },
  {
   "cell_type": "code",
   "execution_count": 26,
   "id": "200c8350-8193-412a-a5a7-739c71d246fd",
   "metadata": {},
   "outputs": [],
   "source": [
    "#Q6\n",
    "'''Yes. We can make a nested dictionary.'''\n",
    "dict2={'home':'Odisha','college':'IIT Madras',\"dict1\":dict}##I've used the just previous dictionary"
   ]
  },
  {
   "cell_type": "code",
   "execution_count": 34,
   "id": "4d99490f-8ab3-485f-aec7-c09ad8ff3268",
   "metadata": {},
   "outputs": [
    {
     "data": {
      "text/plain": [
       "{'language': 'Python',\n",
       " 'course': 'Data Science Masters',\n",
       " 'topics': ['Python', 'Machine Learning', 'Deep Learning']}"
      ]
     },
     "execution_count": 34,
     "metadata": {},
     "output_type": "execute_result"
    }
   ],
   "source": [
    "#Q7\n",
    "dict1 = {'language' : 'Python', 'course': 'Data Science Masters'}\n",
    "topics=['Python', 'Machine Learning', 'Deep Learning']\n",
    "dict1.setdefault('topics',['Python', 'Machine Learning', 'Deep Learning'])\n",
    "dict1"
   ]
  },
  {
   "cell_type": "code",
   "execution_count": 35,
   "id": "1d47c0c0-896e-443e-af00-85410a80f357",
   "metadata": {},
   "outputs": [
    {
     "name": "stdout",
     "output_type": "stream",
     "text": [
      "dict_keys(['Sport', 'Teams'])\n",
      "dict_values(['Cricket', ['India', 'Australia', 'England', 'South Africa', 'Sri Lanka', 'New Zealand']])\n",
      "dict_items([('Sport', 'Cricket'), ('Teams', ['India', 'Australia', 'England', 'South Africa', 'Sri Lanka', 'New Zealand'])])\n"
     ]
    }
   ],
   "source": [
    "#Q8\n",
    "dict1 = {'Sport': 'Cricket' , 'Teams': ['India', 'Australia', 'England', 'South Africa', 'Sri Lanka', 'New Zealand']} \n",
    "'''The 3 view objects are  keys, values and items.'''\n",
    "k=dict1.keys()\n",
    "print(k)\n",
    "v=dict1.values()\n",
    "print(v)\n",
    "i=dict1.items()\n",
    "print(i)"
   ]
  },
  {
   "cell_type": "code",
   "execution_count": null,
   "id": "13c9a53a-425f-48c8-9ac6-4d37d15d3f2d",
   "metadata": {},
   "outputs": [],
   "source": [
    "                                      THANK YOU!"
   ]
  }
 ],
 "metadata": {
  "kernelspec": {
   "display_name": "Python 3 (ipykernel)",
   "language": "python",
   "name": "python3"
  },
  "language_info": {
   "codemirror_mode": {
    "name": "ipython",
    "version": 3
   },
   "file_extension": ".py",
   "mimetype": "text/x-python",
   "name": "python",
   "nbconvert_exporter": "python",
   "pygments_lexer": "ipython3",
   "version": "3.10.8"
  }
 },
 "nbformat": 4,
 "nbformat_minor": 5
}
