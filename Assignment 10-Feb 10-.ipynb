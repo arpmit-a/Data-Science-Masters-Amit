{
 "cells": [
  {
   "cell_type": "code",
   "execution_count": 2,
   "id": "e265e975-1948-426e-970a-7ebcbac95593",
   "metadata": {},
   "outputs": [],
   "source": [
    "#Q1\n",
    "'''In Python, we use the open() method to open files.'''\n",
    "'''\n",
    "1.r (read mode): This mode allows us to read the contents of a file but not write to it. If the file does not exist, it will raise an error.\n",
    "\n",
    "2.w (write mode): This mode allows us to write to a file but not read from it. If the file does not exist, it will be created. If the file already exists, its contents will be overwritten.\n",
    "\n",
    "3.a (append mode): This mode allows us to add new content to an existing file. If the file does not exist, it will be created.\n",
    "\n",
    "4.x (exclusive creation mode): This mode allows us to create a new file and open it for writing. If the file already exists, it will raise an error.\n",
    "\n",
    "5.b (binary mode): This mode is used to open a file in binary mode. It is often used when working with non-text files like images or audio files.\n",
    "\n",
    "6.t (text mode): This mode is used to open a file in text mode. It is the default mode in most programming languages and is used for reading and writing text files.\n",
    "\n",
    "7.+ (read/write mode): This mode allows us to read and write to a file at the same time.'''\n",
    "\n",
    "#Example\n",
    "# Read mode\n",
    "file = open('example.txt', 'r')\n",
    "content = file.read()\n",
    "file.close()\n",
    "\n",
    "# Write mode\n",
    "file = open('example.txt', 'w')\n",
    "file.write('This is a new line.')\n",
    "file.close()\n",
    "\n",
    "# Append mode\n",
    "file = open('example.txt', 'a')\n",
    "file.write('This is another line.')\n",
    "file.close()\n",
    "\n",
    "# Binary mode\n",
    "file = open('example.png', 'rb')\n",
    "\n",
    "# Text mode\n",
    "file = open('example.txt', 'rt')\n",
    "\n",
    "# Read/Write mode\n",
    "file = open('example.txt', 'r+')\n"
   ]
  },
  {
   "cell_type": "code",
   "execution_count": 4,
   "id": "297827a0-c4fa-42db-a76d-388d7fa43a49",
   "metadata": {},
   "outputs": [],
   "source": [
    "# #Q2\n",
    "# '''The close() function is used to close a file that was previously opened using the open() function. \n",
    "# It is important to close a file after we are done reading from or writing to it.'''\n",
    "\n",
    "# #Reasons \n",
    "# 1.Saves resources: When a file is opened, the operating system allocates some resources to it, such as memory and processing power.\n",
    "#   If we don't close the file, these resources will be tied up and unavailable for other programs to use. \n",
    "# 2.Saves changes: When we write to a file, the changes we make are usually stored in a buffer, which is a temporary location in memory. \n",
    "#   If we don't close the file, the changes may not be written to the file, which could cause data loss. \n"
   ]
  },
  {
   "cell_type": "code",
   "execution_count": 5,
   "id": "8a215993-33d5-4451-9189-67b5c1f917d6",
   "metadata": {},
   "outputs": [
    {
     "name": "stdout",
     "output_type": "stream",
     "text": [
      "I want to become a Data Scientist\n"
     ]
    }
   ],
   "source": [
    "#Q3\n",
    "# Open file for writing\n",
    "file = open('data_scientist.txt', 'w')\n",
    "\n",
    "# Write to file\n",
    "file.write('I want to become a Data Scientist')\n",
    "\n",
    "# Close file\n",
    "file.close()\n",
    "\n",
    "# Open file for reading\n",
    "file = open('data_scientist.txt', 'r')\n",
    "\n",
    "# Read contents of file\n",
    "content = file.read()\n",
    "\n",
    "# Close file\n",
    "file.close()\n",
    "\n",
    "# Print contents of file\n",
    "print(content)\n"
   ]
  },
  {
   "cell_type": "code",
   "execution_count": 7,
   "id": "c8be4e42-b864-4f31-8674-399186c845c1",
   "metadata": {},
   "outputs": [],
   "source": [
    "#Q4\n",
    "'''1.read(): This method reads the entire contents of a file and returns it as a string. \n",
    "It takes an optional parameter that specifies the maximum number of bytes to read. \n",
    "If no parameter is given, it will read the entire file.'''\n",
    "#Example\n",
    "# Open file for reading\n",
    "file = open('example.txt', 'r')\n",
    "\n",
    "# Read entire file\n",
    "content = file.read()\n",
    "\n",
    "# Close file\n",
    "file.close()\n",
    "\n",
    "# Print contents of file\n",
    "print(content)\n",
    "\n",
    "\n",
    "'''2.readline(): This method reads one line from a file and returns it as a string. \n",
    "It moves the file pointer to the next line.\n",
    "If called again, it will read the next line, and so on until the end of the file is reached.'''\n",
    "#Example\n",
    "# Open file for reading\n",
    "file = open('example.txt', 'r')\n",
    "\n",
    "# Read one line\n",
    "line1 = file.readline()\n",
    "\n",
    "# Read next line\n",
    "line2 = file.readline()\n",
    "\n",
    "# Close file\n",
    "file.close()\n",
    "\n",
    "# Print lines\n",
    "print(line1)\n",
    "print(line2)\n",
    "\n",
    "\n",
    "'''3.readlines(): This method reads all the lines from a file and returns them as a list of strings. \n",
    "Each string is one line from the file.'''\n",
    "\n",
    "#Example\n",
    "# Open file for reading\n",
    "file = open('example.txt', 'r')\n",
    "\n",
    "# Read all lines\n",
    "lines = file.readlines()\n",
    "\n",
    "# Close file\n",
    "file.close()\n",
    "\n",
    "# Print lines\n",
    "for line in lines:\n",
    "    print(line)\n"
   ]
  },
  {
   "cell_type": "code",
   "execution_count": 15,
   "id": "c353c4b1-403d-4178-aa18-0a0f660def71",
   "metadata": {},
   "outputs": [
    {
     "data": {
      "text/plain": [
       "'When used with the open() function, the with statement provides several advantages over manually opening and closing a file:\\n\\nAutomatic closing of the file: When the code inside the with block finishes executing, the file is automatically closed, even if an error occurs. \\n                               This ensures that the file is always closed and resources are freed up.\\n\\nCleaner code: The with statement is a cleaner and more concise way to open and close files. \\n              It eliminates the need for try-finally blocks or calling the close() function explicitly.'"
      ]
     },
     "execution_count": 15,
     "metadata": {},
     "output_type": "execute_result"
    }
   ],
   "source": [
    "#Q5\n",
    "'''The with statement in Python is used to create a temporary context in which one or more resources are acquired and held exclusively, and which are automatically released when the context is exited, regardless of whether the context was exited normally or with an exception. '''\n",
    "\n",
    "'''When used with the open() function, the with statement provides several advantages over manually opening and closing a file:\n",
    "\n",
    "Automatic closing of the file: When the code inside the with block finishes executing, the file is automatically closed, even if an error occurs. \n",
    "                               This ensures that the file is always closed and resources are freed up.\n",
    "\n",
    "Cleaner code: The with statement is a cleaner and more concise way to open and close files. \n",
    "              It eliminates the need for try-finally blocks or calling the close() function explicitly.'''\n",
    "\n",
    "with open('example.txt', 'r') as file:\n",
    "    # Code to read from file goes here\n",
    "    content = file.read()\n",
    "\n",
    "# File is automatically closed when we exit the with block\n",
    "# Now we can use the content variable outside the with block\n",
    "print(content)\n"
   ]
  },
  {
   "cell_type": "code",
   "execution_count": 21,
   "id": "29b1cc0e-222c-46fd-8582-8e1fd48c18e4",
   "metadata": {},
   "outputs": [
    {
     "name": "stdout",
     "output_type": "stream",
     "text": [
      "Hello, world!\n",
      "  ,asaz\n",
      "\n"
     ]
    }
   ],
   "source": [
    "#Q6\n",
    "#The write() function is used to write a string or bytes object to a file.\n",
    "# Open a file for writing\n",
    "file = open('example.txt', 'w')\n",
    "\n",
    "# Write a string to the file\n",
    "file.write('Hello, world!\\n  ,asaz\\n')\n",
    "\n",
    "# Close the file\n",
    "file.close()\n",
    "\n",
    "\n",
    "#The writelines() function is used to write a list of strings or bytes objects to a file.\n",
    "# Write a list of strings to the file\n",
    "file=open('example2.txt', 'w')\n",
    "lines = ['Line 1\\n', 'Line 2\\n', 'Line 3\\n']\n",
    "file.writelines(lines)\n",
    "\n",
    "# Close the file\n",
    "file.close()\n",
    "\n",
    "with open('example.txt', 'r') as file:\n",
    "    # Code to read from file goes here\n",
    "    content = file.read()\n",
    "\n",
    "# File is automatically closed when we exit the with block\n",
    "# Now we can use the content variable outside the with block\n",
    "print(content)\n"
   ]
  }
 ],
 "metadata": {
  "kernelspec": {
   "display_name": "Python 3 (ipykernel)",
   "language": "python",
   "name": "python3"
  },
  "language_info": {
   "codemirror_mode": {
    "name": "ipython",
    "version": 3
   },
   "file_extension": ".py",
   "mimetype": "text/x-python",
   "name": "python",
   "nbconvert_exporter": "python",
   "pygments_lexer": "ipython3",
   "version": "3.10.8"
  }
 },
 "nbformat": 4,
 "nbformat_minor": 5
}
