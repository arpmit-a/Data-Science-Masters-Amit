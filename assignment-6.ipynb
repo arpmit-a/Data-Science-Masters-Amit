{
 "cells": [
  {
   "cell_type": "code",
   "execution_count": 2,
   "id": "b235a5d5-5e58-4e55-8c78-a8526bea12b1",
   "metadata": {},
   "outputs": [
    {
     "name": "stdout",
     "output_type": "stream",
     "text": [
      "mamal\n",
      "I'm a mamal\n",
      "I'm a dog\n"
     ]
    }
   ],
   "source": [
    "#Q1\n",
    "'''\n",
    "Python is an object oriented programming language.\n",
    "In Python, almost everything is an object with properties and functions.\n",
    "Class-A class functions as an object function Object() { [native code] } or an object creation \"blueprint.\"The class can be compared to a rough draught (prototype) of a home. It includes all of the information regarding the floors, doors, windows, etc.\n",
    "We construct the house in accordance with these descriptions.\n",
    "The item is a house.\n",
    "Object- Object is like an instance of class. For example, suppose Bike is a class then we can create objects like bike1, bike2, etc from the class.\n",
    "'''\n",
    "class Dog:\n",
    "\n",
    "    attr1 = \"mamal\"\n",
    "    attr2 = \"dog\"\n",
    " \n",
    "    \n",
    "    def fun(self):\n",
    "        print(\"I'm a\", self.attr1)\n",
    "        print(\"I'm a\", self.attr2)\n",
    "#Object instantiation\n",
    "Rodger = Dog()\n",
    " \n",
    "# Accessing class attributes\n",
    "# and method through objects\n",
    "print(Rodger.attr1)\n",
    "Rodger.fun()\n"
   ]
  },
  {
   "cell_type": "code",
   "execution_count": null,
   "id": "14843910-0391-4acb-9080-fe5f2a930b91",
   "metadata": {},
   "outputs": [],
   "source": [
    "#Q2\n",
    "'''\n",
    "The four basic pillars of oops are:\n",
    "1.Inheritance\n",
    "2.Polymorphism\n",
    "3.Encapsulation\n",
    "4.Abstraction\n",
    "'''"
   ]
  },
  {
   "cell_type": "code",
   "execution_count": 4,
   "id": "f1979ea6-27be-468a-8d9c-d193edce8074",
   "metadata": {},
   "outputs": [
    {
     "name": "stdout",
     "output_type": "stream",
     "text": [
      "Hello, my name is Amit\n"
     ]
    }
   ],
   "source": [
    "#Q3\n",
    "'''\n",
    "In Python classes, \"__init__\" is a reserved method. A function Object() { [native code] } is what it is known as in object-oriented jargon. \n",
    "When an object is made from a class, this method is invoked, enabling the class to initialise its attributes.\n",
    "'''\n",
    "# A Sample class with init method\n",
    "class Person:\n",
    "\n",
    "\t# init method or constructor\n",
    "\tdef __init__(self, name):\n",
    "\t\tself.name = name\n",
    "\n",
    "\t# Sample Method\n",
    "\tdef say_hi(self):\n",
    "\t\tprint('Hello, my name is', self.name)\n",
    "\n",
    "\n",
    "p = Person('Amit')\n",
    "p.say_hi()\n"
   ]
  },
  {
   "cell_type": "code",
   "execution_count": 5,
   "id": "b580a9f4-792f-4b88-9f91-0dc0c537a5ad",
   "metadata": {},
   "outputs": [
    {
     "data": {
      "text/plain": [
       "'self is a representation of the class instance. In Python, we can access the class\\'s attributes and methods by using the \"self\" keyword. \\nIt binds the given arguments and the attributes. \\nPython does not refer to instance attributes using the @ syntax, which is why you must use self.\\n'"
      ]
     },
     "execution_count": 5,
     "metadata": {},
     "output_type": "execute_result"
    }
   ],
   "source": [
    "#Q4\n",
    "'''self is a representation of the class instance. In Python, we can access the class's attributes and methods by using the \"self\" keyword. \n",
    "It binds the given arguments and the attributes. \n",
    "Python does not refer to instance attributes using the @ syntax, which is why you must use self.\n",
    "'''\n"
   ]
  },
  {
   "cell_type": "code",
   "execution_count": 6,
   "id": "916f41cb-aaa9-4cfa-ae3f-5f402daac9fd",
   "metadata": {},
   "outputs": [
    {
     "name": "stdout",
     "output_type": "stream",
     "text": [
      "Hello\n",
      "World\n"
     ]
    }
   ],
   "source": [
    "#Q5\n",
    "'''\n",
    "1.Inheritance is referred to as 'IS A' relationship, implying that one class should only inherit other if there is a 'IS A' relationship between them.\n",
    "2.There are 5 types of inheritances \n",
    "        Single Inheritance\n",
    "        Multiple Inheritance\n",
    "        Multilevel Inheritance\n",
    "        Hierarchical Inheritance\n",
    "        Hybrid Inheritance\n",
    "'''\n",
    "#Single Inheritance\n",
    "class A:\n",
    "    def display(self):\n",
    "        print(\"Hello\")\n",
    "    \n",
    "class B(A):\n",
    "    def display(self):\n",
    "        super().display()#By inheriting class A in class B, we can access the properties and function of class A in class B using the super() method.\n",
    "\n",
    "\n",
    "        print(\"World\")\n",
    "\n",
    "b = B()\n",
    "b.display()\n",
    "\n"
   ]
  },
  {
   "cell_type": "code",
   "execution_count": 7,
   "id": "9ea2abc7-8736-4725-bcff-81cca0689381",
   "metadata": {},
   "outputs": [
    {
     "name": "stdout",
     "output_type": "stream",
     "text": [
      "Multiple Inheritance Example\n",
      "Hi\n",
      "Bye\n"
     ]
    }
   ],
   "source": [
    "#Multiple Inheritance\n",
    "print(\"Multiple Inheritance Example\")\n",
    "class A:\n",
    "    def sayHi(self):\n",
    "        print(\"Hi\")\n",
    "    \n",
    "class B:\n",
    "    def sayBye(self):\n",
    "        print(\"Bye\")\n",
    "   \n",
    "        \n",
    "class C(A, B):\n",
    "    def display(self):\n",
    "        super().sayHi()\n",
    "        super().sayBye()\n",
    "        \n",
    "c = C()\n",
    "c.display()"
   ]
  },
  {
   "cell_type": "code",
   "execution_count": 8,
   "id": "17a3a039-fe3d-4d3e-ac26-d9cb0ddf56db",
   "metadata": {},
   "outputs": [
    {
     "name": "stdout",
     "output_type": "stream",
     "text": [
      "Multilevel Inheritance Example\n",
      "Class A\n",
      "Class B\n",
      "Class C\n"
     ]
    }
   ],
   "source": [
    "#Multilevel Inheritance\n",
    "print(\"Multilevel Inheritance Example\")\n",
    "class A:\n",
    "    def display(self):\n",
    "        print(\"Class A\")\n",
    "        \n",
    "class B(A):\n",
    "    def display(self):\n",
    "        super().display()\n",
    "        print(\"Class B\")\n",
    "        \n",
    "class C(B):\n",
    "    def display(self):\n",
    "        super().display()\n",
    "        print(\"Class C\")\n",
    "        \n",
    "        \n",
    "c = C()\n",
    "c.display()"
   ]
  },
  {
   "cell_type": "code",
   "execution_count": null,
   "id": "ff60c692-4a21-403c-a36b-bb04f5985f20",
   "metadata": {},
   "outputs": [],
   "source": [
    "#Hierarchical Inheritance\n",
    "class A:\n",
    "    def display(self, output):\n",
    "        print(output)\n",
    "        \n",
    "class B(A):\n",
    "    def display(self):\n",
    "        super().display('Hello from B')\n",
    "        \n",
    "class C(A):\n",
    "    def display(self):\n",
    "        super().display('Hello from C')\n",
    "        \n",
    "b = B()\n",
    "b.display()\n",
    "\n",
    "c = C()\n",
    "c.display()"
   ]
  }
 ],
 "metadata": {
  "kernelspec": {
   "display_name": "Python 3 (ipykernel)",
   "language": "python",
   "name": "python3"
  },
  "language_info": {
   "codemirror_mode": {
    "name": "ipython",
    "version": 3
   },
   "file_extension": ".py",
   "mimetype": "text/x-python",
   "name": "python",
   "nbconvert_exporter": "python",
   "pygments_lexer": "ipython3",
   "version": "3.10.8"
  }
 },
 "nbformat": 4,
 "nbformat_minor": 5
}
