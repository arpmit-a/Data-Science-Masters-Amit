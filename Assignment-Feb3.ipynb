{
 "cells": [
  {
   "cell_type": "code",
   "execution_count": 3,
   "id": "4fddadeb-d3c8-44de-97ed-c73a810e4268",
   "metadata": {},
   "outputs": [
    {
     "data": {
      "text/plain": [
       "325"
      ]
     },
     "execution_count": 3,
     "metadata": {},
     "output_type": "execute_result"
    }
   ],
   "source": [
    "#Q1\n",
    "''' \"def\" is used to create a functionx'''\n",
    "def sum25():\n",
    "    s=0\n",
    "    for i in range(26):\n",
    "        s+=i\n",
    "    return s\n",
    "\n",
    "sum25()"
   ]
  },
  {
   "cell_type": "code",
   "execution_count": 8,
   "id": "694c8407-07f8-42ab-9407-a6cfa55869fc",
   "metadata": {},
   "outputs": [
    {
     "name": "stdout",
     "output_type": "stream",
     "text": [
      "25\n",
      "{'english': 6, 'bio': 9, 'maths': 8}\n"
     ]
    }
   ],
   "source": [
    "#Q2\n",
    "''' *args is used if we want to pass any number of arguements to our function.\n",
    "**kwargs is used if we want to feed a dictionary into our function'''\n",
    "def sumn(*args):\n",
    "    i=0\n",
    "    for j in args:\n",
    "        i+=j\n",
    "    return i\n",
    "\n",
    "print(sumn(1,2,3,3,5,6,5))\n",
    "####\n",
    "def book_list(**kwargs):\n",
    "    print(kwargs)\n",
    "book_list(english=6,bio=9,maths=8)"
   ]
  },
  {
   "cell_type": "code",
   "execution_count": 9,
   "id": "9d6be5dc-968e-48b5-a0f8-e395cb5f605c",
   "metadata": {},
   "outputs": [
    {
     "name": "stdout",
     "output_type": "stream",
     "text": [
      "2\n",
      "4\n",
      "6\n",
      "8\n",
      "10\n"
     ]
    }
   ],
   "source": [
    "#Q3\n",
    "'''An object that can be iterated upon, or traversed through all the values, is known as an iterator.\n",
    "__iter__(): The iter() method is called for the initialization of an iterator. This returns an iterator object\n",
    "__next__():This method used for iteration.\n",
    "'''\n",
    "lst=[2, 4, 6, 8, 10, 12, 14, 16,18, 20]\n",
    "iterator = iter(lst)\n",
    "\n",
    "print(next(iterator))\n",
    "print(next(iterator))\n",
    "print(next(iterator))\n",
    "print(next(iterator))\n",
    "print(next(iterator))\n"
   ]
  },
  {
   "cell_type": "code",
   "execution_count": 13,
   "id": "5d642259-4ba7-4364-820c-af7a70b61d87",
   "metadata": {},
   "outputs": [
    {
     "name": "stdout",
     "output_type": "stream",
     "text": [
      "First item\n",
      "10\n",
      "Second item\n",
      "20\n",
      "Last item\n",
      "30\n"
     ]
    }
   ],
   "source": [
    "#Q4\n",
    "'''Programmers can create iterators quickly, easily, and cleanly by using Python's generator functions, which let you declare a function that works as an iterator. \n",
    "An object that has the ability to iterate or loop is known as an iterator. \n",
    "A container of data is abstracted using this technique to make it behave like an iterable object.\n",
    "\n",
    "Yield keyword is used to create a generator function.'''\n",
    "\n",
    "def mygenerator():\n",
    "    print('First item')\n",
    "    yield 10\n",
    "\n",
    "    print('Second item')\n",
    "    yield 20\n",
    "\n",
    "    print('Last item')\n",
    "    yield 30\n",
    "for gen in mygenerator():\n",
    "    print(gen)"
   ]
  },
  {
   "cell_type": "code",
   "execution_count": null,
   "id": "b98fb9a8-c3f4-48ba-937d-a79b484d28ad",
   "metadata": {},
   "outputs": [],
   "source": [
    "#Q5\n",
    "def generatorprime(n):\n",
    "    i=2\n",
    "    while(i<n):\n",
    "        prime=True\n",
    "        for a in range(2,i):\n",
    "            if(i%a==0):\n",
    "                prime=False\n",
    "                break\n",
    "        if(prime):    \n",
    "            yield i\n",
    "        i += 1\n",
    "\n",
    "k=0\n",
    "for prime in generatorprime(1000):\n",
    "    if(k<20):\n",
    "        print(prime)\n",
    "        k+=1"
   ]
  },
  {
   "cell_type": "code",
   "execution_count": null,
   "id": "e95249d2-6790-4d7d-9b1c-c7d64abef608",
   "metadata": {},
   "outputs": [],
   "source": []
  },
  {
   "cell_type": "code",
   "execution_count": null,
   "id": "67556500-7259-451a-abd1-ee139d167f09",
   "metadata": {},
   "outputs": [],
   "source": []
  }
 ],
 "metadata": {
  "kernelspec": {
   "display_name": "Python 3 (ipykernel)",
   "language": "python",
   "name": "python3"
  },
  "language_info": {
   "codemirror_mode": {
    "name": "ipython",
    "version": 3
   },
   "file_extension": ".py",
   "mimetype": "text/x-python",
   "name": "python",
   "nbconvert_exporter": "python",
   "pygments_lexer": "ipython3",
   "version": "3.10.8"
  }
 },
 "nbformat": 4,
 "nbformat_minor": 5
}
