{
  "nbformat": 4,
  "nbformat_minor": 0,
  "metadata": {
    "colab": {
      "provenance": [],
      "authorship_tag": "ABX9TyMArjRMTeqFb7xK0IOT59Uv",
      "include_colab_link": true
    },
    "kernelspec": {
      "name": "python3",
      "display_name": "Python 3"
    },
    "language_info": {
      "name": "python"
    }
  },
  "cells": [
    {
      "cell_type": "markdown",
      "metadata": {
        "id": "view-in-github",
        "colab_type": "text"
      },
      "source": [
        "<a href=\"https://colab.research.google.com/github/arpmit-a/Data-Science-Masters-Amit/blob/main/assignment_2.ipynb\" target=\"_parent\"><img src=\"https://colab.research.google.com/assets/colab-badge.svg\" alt=\"Open In Colab\"/></a>"
      ]
    },
    {
      "cell_type": "markdown",
      "source": [
        "#Q-1\n"
      ],
      "metadata": {
        "id": "0pYCh7OYH2yl"
      }
    },
    {
      "cell_type": "code",
      "execution_count": 2,
      "metadata": {
        "colab": {
          "base_uri": "https://localhost:8080/"
        },
        "id": "OdfSIrDNEaK6",
        "outputId": "acc25d60-73ea-4d4b-84a9-3513e17d6725"
      },
      "outputs": [
        {
          "output_type": "stream",
          "name": "stdout",
          "text": [
            "Please enter your marks in percentage 25.896\n",
            "Your grade is D \n"
          ]
        }
      ],
      "source": [
        "\n",
        "Marks=float(input(\"Please enter your marks in percentage \"))\n",
        "if (Marks>90):\n",
        "  print(\"Your grade is A \")\n",
        "elif(Marks>80 and Marks<=90):\n",
        "  print(\"Your grade is B \")\n",
        "elif(Marks<=60 and Marks>=80):\n",
        "  print(\"Your grade is C \")\n",
        "else:\n",
        "  print(\"Your grade is D \")"
      ]
    },
    {
      "cell_type": "markdown",
      "source": [
        "#Q-2"
      ],
      "metadata": {
        "id": "BXCj2LecH9_P"
      }
    },
    {
      "cell_type": "code",
      "source": [
        "\n",
        "Cost_Price=int(input(\"Please enter cost price of your bike \"))\n",
        "if (Cost_Price>100000):\n",
        "  print(\"You've to pay 15% of your bike cost as Tax. \")\n",
        "elif(Cost_Price>50000 and Cost_Price<=100000):\n",
        "  print(\"You've to pay 10% of your bike cost as Tax. \")\n",
        "else:\n",
        "  print(\"You've to pay 5% of your bike cost as Tax. \")"
      ],
      "metadata": {
        "colab": {
          "base_uri": "https://localhost:8080/"
        },
        "id": "t9GdcXEqHkNF",
        "outputId": "949f8951-6cdb-45d7-eb7f-6bd59c533cb2"
      },
      "execution_count": 3,
      "outputs": [
        {
          "output_type": "stream",
          "name": "stdout",
          "text": [
            "Please enter cost price of your bike 150000\n",
            "You've to pay 15% of your bike cost as Tax. \n"
          ]
        }
      ]
    },
    {
      "cell_type": "code",
      "source": [
        "City=str(input(\"Please enter cost price of your city name \"))\n",
        "if (City==\"Delhi\"):\n",
        "  print(\"The monument present in your city is Red Fort \")\n",
        "elif(City==\"Agra\"):\n",
        "  print(\"The monument present in your city is Taj Mahal \")\n",
        "elif(City==\"Jaipur\"):\n",
        "  print(\"The monument present in your city is Jai Mahal \")"
      ],
      "metadata": {
        "colab": {
          "base_uri": "https://localhost:8080/"
        },
        "id": "85VcoZNcL2fN",
        "outputId": "757a643a-e119-494f-e546-f7c3d99ea5ca"
      },
      "execution_count": 5,
      "outputs": [
        {
          "output_type": "stream",
          "name": "stdout",
          "text": [
            "Please enter cost price of your city name Jaipur\n",
            "The monument present in your city is Jai Mahal \n"
          ]
        }
      ]
    },
    {
      "cell_type": "markdown",
      "source": [
        "#Q-4\n"
      ],
      "metadata": {
        "id": "c0H7sj_8nI5i"
      }
    },
    {
      "cell_type": "code",
      "source": [
        "num=int(input(\"Enter the number \"))\n",
        "i=0\n",
        "while(num>10):\n",
        "  num/=3\n",
        "  i+=1\n",
        "print(f\"Time the num gets divided by 3 is {i}\")"
      ],
      "metadata": {
        "colab": {
          "base_uri": "https://localhost:8080/"
        },
        "id": "aieCzIYlRGvQ",
        "outputId": "97398e70-fdb8-4fe6-a97a-fe3ed9df0903"
      },
      "execution_count": 6,
      "outputs": [
        {
          "output_type": "stream",
          "name": "stdout",
          "text": [
            "Enter the number 33\n",
            "Time the num gets divided by 3 is 2\n"
          ]
        }
      ]
    },
    {
      "cell_type": "markdown",
      "source": [
        "#Q-5\n",
        "**Answer-** Until a specified condition is met, a block of statements will be periodically executed in a Python while loop. And the line in the programme that follows the loop is run when the condition changes to false.While loop falls under the category of indefinite iteration. Indefinite iteration means that the number of times the loop is executed isn’t specified explicitly in advance. \n",
        "![while-loop.jpg](data:image/jpeg;base64,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)\n",
        "\n",
        "while conditional_expression:  \n",
        "    Code block of while  \n",
        "This Right here is the format of a typical while loop.\n",
        "\n",
        "##Examples\n",
        "**Python program example to show the use of while loop**   \n",
        "num = 15  \n",
        "\n",
        "**initializing summation and a counter for iteration**\n",
        "\n",
        "summation = 0  \n",
        "c = 1  \n",
        "  \n",
        "while c <= num:  **(specifying the condition of the loop)**  \n",
        "    begining the code block  \n",
        "    summation = c**2 + summation  \n",
        "    c = c + 1    # incrementing the counter  \n",
        "  \n",
        "### print the final sum  \n",
        "print(\"The sum of squares is\", summation)\n",
        "Output is 1240"
      ],
      "metadata": {
        "id": "u-50OumVn2Yx"
      }
    },
    {
      "cell_type": "markdown",
      "source": [
        "#Q6"
      ],
      "metadata": {
        "id": "1ZzX-4350Hpn"
      }
    },
    {
      "cell_type": "code",
      "source": [
        "#Pattern-1\n",
        "row=1\n",
        "while row<=5:\n",
        "    j=1\n",
        "    while j<=i:#outer loop\n",
        "        print(\"*\",end=\"\")\n",
        "        j=j+1\n",
        "    print(\"\")\n",
        "    i=i+1"
      ],
      "metadata": {
        "colab": {
          "base_uri": "https://localhost:8080/"
        },
        "id": "-e_rE6ujnOKq",
        "outputId": "1e4d8b92-fbf4-4018-ebb8-0312e8ee9953"
      },
      "execution_count": 11,
      "outputs": [
        {
          "output_type": "stream",
          "name": "stdout",
          "text": [
            "*\n",
            "**\n",
            "***\n",
            "****\n",
            "*****\n"
          ]
        }
      ]
    },
    {
      "cell_type": "code",
      "source": [
        "#Pattern-2\n",
        "row=5\n",
        "i=1\n",
        "while i<=row:\n",
        "  col=1\n",
        "  while col<=row:\n",
        "    print(\"*\",end=\"\")\n",
        "    col+=1\n",
        "  print(\"\\r\")\n",
        "  i+=1\n",
        "#We can it make more flexible by using input function \n"
      ],
      "metadata": {
        "colab": {
          "base_uri": "https://localhost:8080/"
        },
        "id": "RYbObW3-uNKP",
        "outputId": "4e22fb17-55d7-4783-8fcb-83e9d9ecb489"
      },
      "execution_count": 12,
      "outputs": [
        {
          "output_type": "stream",
          "name": "stdout",
          "text": [
            "*****\r\n",
            "*****\r\n",
            "*****\r\n",
            "*****\r\n",
            "*****\r\n"
          ]
        }
      ]
    },
    {
      "cell_type": "code",
      "source": [
        "#Pattern-3(Krish Sir's in class assignment)\n",
        "#Sir asked us to print a pyramid\n",
        "rows = int(input(\"Enter number of rows: \"))\n",
        "col = 0\n",
        "for i in range(1, rows+1):\n",
        "    for space in range(1, (rows-i)+1):\n",
        "        print(end=\"  \")\n",
        "   \n",
        "    while col!=(2*i-1):\n",
        "        print(\"* \", end=\"\")\n",
        "        col+= 1\n",
        "   \n",
        "    col = 0\n",
        "    print()\n",
        "\n"
      ],
      "metadata": {
        "colab": {
          "base_uri": "https://localhost:8080/"
        },
        "id": "SwzF0S_m2nRI",
        "outputId": "5ab9e76f-8d1b-43f1-bba4-88424bad5979"
      },
      "execution_count": 17,
      "outputs": [
        {
          "output_type": "stream",
          "name": "stdout",
          "text": [
            "Enter number of rows: 5\n",
            "        * \n",
            "      * * * \n",
            "    * * * * * \n",
            "  * * * * * * * \n",
            "* * * * * * * * * \n"
          ]
        }
      ]
    },
    {
      "cell_type": "markdown",
      "source": [
        "#Q-7"
      ],
      "metadata": {
        "id": "wY6XHaErbe0H"
      }
    },
    {
      "cell_type": "code",
      "source": [
        "i=10\n",
        "while(i>=1):\n",
        "  print(i)\n",
        "  i-=1"
      ],
      "metadata": {
        "colab": {
          "base_uri": "https://localhost:8080/"
        },
        "id": "S_GAcBTDU7sU",
        "outputId": "97e45829-8d7c-4193-d0a9-881aeb5a58a7"
      },
      "execution_count": 18,
      "outputs": [
        {
          "output_type": "stream",
          "name": "stdout",
          "text": [
            "10\n",
            "9\n",
            "8\n",
            "7\n",
            "6\n",
            "5\n",
            "4\n",
            "3\n",
            "2\n",
            "1\n"
          ]
        }
      ]
    },
    {
      "cell_type": "code",
      "source": [],
      "metadata": {
        "id": "gLtTRIInbu15"
      },
      "execution_count": null,
      "outputs": []
    }
  ]
}