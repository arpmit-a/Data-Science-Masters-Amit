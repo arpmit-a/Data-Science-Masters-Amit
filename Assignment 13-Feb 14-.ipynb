{
 "cells": [
  {
   "cell_type": "code",
   "execution_count": 2,
   "id": "8e90bc3c-d366-48da-acbd-3efd5778d12e",
   "metadata": {},
   "outputs": [
    {
     "data": {
      "text/plain": [
       "\"Python's capacity to run multiple threads of execution concurrently within a single program is referred to as multithreading.\\nA thread is a group of instructions that the operating system can plan and carry out independently. \\nA program can execute numerous tasks concurrently by using threads, resulting in a more effective use of system resources and quicker execution times.\\n\\nPython uses multithreading to enhance the performance of programs that handle CPU- or I/O-bound activities. \\nI/O-bound activities, such as reading or writing files or communicating over networks, can be made more productive by performing them asynchronously using threads.\\nTo take advantage of multi-core processors, CPU-bound activities, such as mathematical calculations, can be divided into smaller tasks and carried out in parallel by several threads.\\n\\nPython uses the threading module to manage processes. It offers a straightforward and understandable Protocol for thread creation, management, synchronisation, and communication.\\nIn all versions of Python, the threading module is a component of the standard library.\""
      ]
     },
     "execution_count": 2,
     "metadata": {},
     "output_type": "execute_result"
    }
   ],
   "source": [
    "#Q1\n",
    " \n",
    "'''Python's capacity to run multiple threads of execution concurrently within a single program is referred to as multithreading.\n",
    "A thread is a group of instructions that the operating system can plan and carry out independently. \n",
    "A program can execute numerous tasks concurrently by using threads, resulting in a more effective use of system resources and quicker execution times.\n",
    "\n",
    "Python uses multithreading to enhance the performance of programs that handle CPU- or I/O-bound activities. \n",
    "I/O-bound activities, such as reading or writing files or communicating over networks, can be made more productive by performing them asynchronously using threads.\n",
    "To take advantage of multi-core processors, CPU-bound activities, such as mathematical calculations, can be divided into smaller tasks and carried out in parallel by several threads.\n",
    "\n",
    "Python uses the threading module to manage processes. It offers a straightforward and understandable Protocol for thread creation, management, synchronisation, and communication.\n",
    "In all versions of Python, the threading module is a component of the standard library.'''\n"
   ]
  },
  {
   "cell_type": "code",
   "execution_count": 21,
   "id": "dc359bd6-60a6-496f-86da-9c94102979a2",
   "metadata": {},
   "outputs": [
    {
     "data": {
      "text/plain": [
       "\"In Python's threading module, the enumerate() function can be used to retrieve a list of all currently active thread objects. \\nThe function returns a list of all threads that are currently running, including the main thread.\""
      ]
     },
     "execution_count": 21,
     "metadata": {},
     "output_type": "execute_result"
    }
   ],
   "source": [
    "#Q2\n",
    "'''The threading module is used in Python to create and manage threads of execution. \n",
    "It allows developers to write concurrent programs that can perform multiple tasks at the same time, improving performance and making more efficient use of system resources. \n",
    "Threading is especially useful for programs that perform I/O-bound or CPU-bound tasks, as it enables these tasks to be performed asynchronously or in parallel. \n",
    "The threading module provides a simple and intuitive API for creating and managing threads, and it is part of the Python standard library, so it is available in all versions of Python.'''\n",
    "\n",
    "#activeCount()\n",
    "'''activeCount() is a method in Python's threading module that returns the number of currently active threads in a program. \n",
    "This method can be used to monitor the progress of a program's threads and ensure that they are all running as expected.'''\n",
    "\n",
    "#currentThread()\n",
    "'''currentThread() is a method in Python's threading module that returns a reference to the currently executing thread object. \n",
    "This method can be used to identify and manipulate the current thread within a multi-threaded program.'''\n",
    "\n",
    "#enumerate()\n",
    "'''In Python's threading module, the enumerate() function can be used to retrieve a list of all currently active thread objects. \n",
    "The function returns a list of all threads that are currently running, including the main thread.'''"
   ]
  },
  {
   "cell_type": "code",
   "execution_count": 7,
   "id": "d3e1f0aa-f10d-4d00-b1e0-a0b536f328c4",
   "metadata": {},
   "outputs": [
    {
     "name": "stdout",
     "output_type": "stream",
     "text": [
      "This code is running in a separate thread.\n",
      "This code is running in the main thread.\n",
      "This code is running again in a separate thread.\n",
      "This code is running after the new thread has completed.\n"
     ]
    },
    {
     "data": {
      "text/plain": [
       "'the isAlive() method is a function defined in the Thread class that returns a boolean value indicating whether the target thread is currently executing.\\nThe isAlive() method can be used to determine whether the target thread is still executing or has finished its execution. \\nThe method returns True if the target thread is currently executing, and False otherwise.'"
      ]
     },
     "execution_count": 7,
     "metadata": {},
     "output_type": "execute_result"
    }
   ],
   "source": [
    "#Q3\n",
    "#a.run()\n",
    "'''In Python, the run() method is a function defined in the Thread class that represents the code that will be executed in a separate thread.\n",
    "The run() method is the entry point for the new thread, and it contains the code that will be executed in that thread. \n",
    "When you call the start() method on the thread object, Python creates a new thread and begins executing the run() method in that thread.\n",
    " The run() method is not called directly; instead, it is called implicitly by the start() method when you start the thread. \n",
    " This ensures that the code in the run() method is executed in a separate thread, rather than in the main thread of the program.'''\n",
    "\n",
    "#b.start()\n",
    "'''The start() method is a function defined in the Thread class that begins the execution of a new thread. When you create a new Thread object, you can call the start() method to start the thread's execution.\n",
    "When you call the start() method, Python creates a new thread and begins executing the code specified in the run() method of the Thread object in that thread. \n",
    "The start() method returns immediately, allowing the main thread of the program to continue executing while the new thread runs in the background.'''\n",
    "\n",
    "#c.join()\n",
    "''' the join() method is a function defined in the Thread class that allows one thread to wait for another thread to complete its execution.\n",
    "When you call the join() method on a Thread object, the calling thread will block until the target thread has completed its execution.'''\n",
    "#Here's an example\n",
    "import threading\n",
    "import time\n",
    "\n",
    "def my_function():\n",
    "    # code to be executed in the new thread\n",
    "    print(\"This code is running in a separate thread.\")\n",
    "    time.sleep(5)\n",
    "    print(\"This code is running again in a separate thread.\")\n",
    "\n",
    "# create a new thread object\n",
    "my_thread = threading.Thread(target=my_function)\n",
    "\n",
    "# start the new thread\n",
    "my_thread.start()\n",
    "\n",
    "# code to be executed in the main thread\n",
    "print(\"This code is running in the main thread.\")\n",
    "\n",
    "# wait for the new thread to complete its execution\n",
    "my_thread.join()\n",
    "\n",
    "# code to be executed after the new thread has completed\n",
    "print(\"This code is running after the new thread has completed.\")\n",
    "\n",
    "\n",
    "\n",
    "#d.isAlive()\n",
    "'''the isAlive() method is a function defined in the Thread class that returns a boolean value indicating whether the target thread is currently executing.\n",
    "The isAlive() method can be used to determine whether the target thread is still executing or has finished its execution. \n",
    "The method returns True if the target thread is currently executing, and False otherwise.'''"
   ]
  },
  {
   "cell_type": "code",
   "execution_count": 11,
   "id": "46cc3bad-f92a-48a7-97b4-2a2266f02fd3",
   "metadata": {},
   "outputs": [
    {
     "name": "stdout",
     "output_type": "stream",
     "text": [
      "[0, 1, 4, 9, 16, 25, 36, 49, 64, 81]\n",
      "[0, 1, 8, 27, 64, 125, 216, 343, 512, 729]\n"
     ]
    }
   ],
   "source": [
    "#Q4\n",
    "import threading\n",
    "\n",
    "def print_squares(n):\n",
    "    x=[]\n",
    "    for i in range(n):\n",
    "        x.append(i**2)\n",
    "    print(x)\n",
    "\n",
    "def print_cubes(n):\n",
    "    x=[]\n",
    "    for i in range(n):\n",
    "        x.append(i**3)\n",
    "    print(x)\n",
    "\n",
    "n = 10\n",
    "\n",
    "    # create the first thread to print squares\n",
    "thread1 = threading.Thread(target=print_squares, args=(n,))\n",
    "thread1.start()\n",
    "\n",
    "    # create the second thread to print cubes\n",
    "thread2 = threading.Thread(target=print_cubes, args=(n,))\n",
    "thread2.start()\n",
    "\n",
    "# wait for both threads to finish before exiting\n",
    "thread1.join()\n",
    "thread2.join()\n"
   ]
  },
  {
   "cell_type": "code",
   "execution_count": 12,
   "id": "9c5d4173-9f92-4ada-95c1-0f3e983792f2",
   "metadata": {},
   "outputs": [
    {
     "data": {
      "text/plain": [
       "'Complexity: Multithreaded programs can be more complex to design, implement, and debug than single-threaded programs. Coordination between threads and synchronization of shared resources can be challenging and error-prone.\\nOverhead: Multithreading can introduce overhead due to the creation and management of multiple threads, which can reduce the overall performance of a program.\\nConcurrency issues: Multithreading can introduce concurrency issues, such as race conditions, deadlocks, and livelocks, which can be difficult to detect and resolve.\\nDebugging: Debugging multithreaded programs can be difficult, as the behavior of threads can be non-deterministic and dependent on factors such as thread scheduling and system load.'"
      ]
     },
     "execution_count": 12,
     "metadata": {},
     "output_type": "execute_result"
    }
   ],
   "source": [
    "#q5\n",
    "\n",
    "#Advantage\n",
    "'''Increased efficiency: By using multithreading, it is possible to improve the efficiency of a program by allowing it to perform multiple tasks simultaneously. This can lead to faster execution times and better utilization of system resources.\n",
    "Responsiveness: Multithreading can improve the responsiveness of a program by allowing it to continue running while it waits for I/O or other operations to complete.\n",
    "Resource sharing: Multithreading allows multiple threads to share resources, such as memory, files, and network connections, which can reduce the overall resource usage of a program.\n",
    "Modularity: Multithreading can be used to implement modular and reusable code by separating tasks into separate threads, which can make code easier to understand and maintain.'''\n",
    "\n",
    "#Disadvantage\n",
    "'''Complexity: Multithreaded programs can be more complex to design, implement, and debug than single-threaded programs. Coordination between threads and synchronization of shared resources can be challenging and error-prone.\n",
    "Overhead: Multithreading can introduce overhead due to the creation and management of multiple threads, which can reduce the overall performance of a program.\n",
    "Concurrency issues: Multithreading can introduce concurrency issues, such as race conditions, deadlocks, and livelocks, which can be difficult to detect and resolve.\n",
    "Debugging: Debugging multithreaded programs can be difficult, as the behavior of threads can be non-deterministic and dependent on factors such as thread scheduling and system load.'''"
   ]
  },
  {
   "cell_type": "code",
   "execution_count": 13,
   "id": "b236a4f2-e9e1-4302-8848-3f9f23305924",
   "metadata": {},
   "outputs": [
    {
     "data": {
      "text/plain": [
       "'Race conditions occur when the behavior of a program depends on the relative timing of two or more threads accessing shared resources. This situation can arise when multiple threads try to modify the same shared variable or data structure without proper synchronization.\\nRace conditions can cause unpredictable behavior, such as incorrect results or program crashes, and they can be difficult to detect and reproduce.'"
      ]
     },
     "execution_count": 13,
     "metadata": {},
     "output_type": "execute_result"
    }
   ],
   "source": [
    "#Q6\n",
    "\n",
    "#Deadlock\n",
    "'''Deadlocks occur when two or more threads are blocked, waiting for each other to release a resource that they are holding. This situation can arise when multiple threads try to acquire resources in different orders or when a thread is waiting for a resource that is already held by another thread.\n",
    "Deadlocks can cause a program to become unresponsive or crash, and they can be difficult to detect and resolve.'''\n",
    "\n",
    "#race\n",
    "'''Race conditions occur when the behavior of a program depends on the relative timing of two or more threads accessing shared resources. This situation can arise when multiple threads try to modify the same shared variable or data structure without proper synchronization.\n",
    "Race conditions can cause unpredictable behavior, such as incorrect results or program crashes, and they can be difficult to detect and reproduce.'''"
   ]
  },
  {
   "cell_type": "code",
   "execution_count": null,
   "id": "1e47a9da-99f3-4d8c-8d85-305681508313",
   "metadata": {},
   "outputs": [],
   "source": []
  }
 ],
 "metadata": {
  "kernelspec": {
   "display_name": "Python 3 (ipykernel)",
   "language": "python",
   "name": "python3"
  },
  "language_info": {
   "codemirror_mode": {
    "name": "ipython",
    "version": 3
   },
   "file_extension": ".py",
   "mimetype": "text/x-python",
   "name": "python",
   "nbconvert_exporter": "python",
   "pygments_lexer": "ipython3",
   "version": "3.10.8"
  }
 },
 "nbformat": 4,
 "nbformat_minor": 5
}
