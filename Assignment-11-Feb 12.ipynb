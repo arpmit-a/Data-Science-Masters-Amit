{
 "cells": [
  {
   "cell_type": "code",
   "execution_count": 1,
   "id": "7dd0d801-0cb1-4435-b3b2-7882a3d3044d",
   "metadata": {},
   "outputs": [
    {
     "data": {
      "text/plain": [
       "\"Syntax errors are caused by mistakes in the program's syntax or structure and prevent the program from running, while exceptions occur during runtime and represent errors that can be caught and handled to allow the program to continue executing.\""
      ]
     },
     "execution_count": 1,
     "metadata": {},
     "output_type": "execute_result"
    }
   ],
   "source": [
    "#Q1\n",
    "'''An exception is an event that occurs during the execution of a program that disrupts the normal flow of instructions.\n",
    "In Python, when an exception occurs, an object is created to represent that exception, which contains information about the error and the context in which it occurred.\n",
    "This exception object is then \"raised\", which means that control is transferred to a block of code that handles the exception'''\n",
    "\n",
    "#Difference between Exception and Syntax Error\n",
    "'''Syntax errors are caused by mistakes in the program's syntax or structure and prevent the program from running, while exceptions occur during runtime and represent errors that can be caught and handled to allow the program to continue executing.'''"
   ]
  },
  {
   "cell_type": "code",
   "execution_count": 2,
   "id": "363615a0-aa35-412c-9714-b2f6023d0ab9",
   "metadata": {},
   "outputs": [
    {
     "ename": "ZeroDivisionError",
     "evalue": "division by zero",
     "output_type": "error",
     "traceback": [
      "\u001b[0;31m---------------------------------------------------------------------------\u001b[0m",
      "\u001b[0;31mZeroDivisionError\u001b[0m                         Traceback (most recent call last)",
      "Cell \u001b[0;32mIn[2], line 8\u001b[0m\n\u001b[1;32m      5\u001b[0m \u001b[38;5;28;01mdef\u001b[39;00m \u001b[38;5;21mdivide_by_zero\u001b[39m():\n\u001b[1;32m      6\u001b[0m     \u001b[38;5;28;01mreturn\u001b[39;00m \u001b[38;5;241m1\u001b[39m \u001b[38;5;241m/\u001b[39m \u001b[38;5;241m0\u001b[39m\n\u001b[0;32m----> 8\u001b[0m \u001b[43mdivide_by_zero\u001b[49m\u001b[43m(\u001b[49m\u001b[43m)\u001b[49m\n\u001b[1;32m      9\u001b[0m \u001b[38;5;124;03m'''In this code, the divide_by_zero() function attempts to divide 1 by 0, which is an invalid operation in mathematics. When this line of code is executed, a ZeroDivisionError exception is raised.\u001b[39;00m\n\u001b[1;32m     10\u001b[0m \u001b[38;5;124;03mSince there is no try/except block to catch and handle this exception, the program crashes and raises an error message:'''\u001b[39;00m\n",
      "Cell \u001b[0;32mIn[2], line 6\u001b[0m, in \u001b[0;36mdivide_by_zero\u001b[0;34m()\u001b[0m\n\u001b[1;32m      5\u001b[0m \u001b[38;5;28;01mdef\u001b[39;00m \u001b[38;5;21mdivide_by_zero\u001b[39m():\n\u001b[0;32m----> 6\u001b[0m     \u001b[38;5;28;01mreturn\u001b[39;00m \u001b[38;5;241;43m1\u001b[39;49m\u001b[43m \u001b[49m\u001b[38;5;241;43m/\u001b[39;49m\u001b[43m \u001b[49m\u001b[38;5;241;43m0\u001b[39;49m\n",
      "\u001b[0;31mZeroDivisionError\u001b[0m: division by zero"
     ]
    }
   ],
   "source": [
    "#Q2\n",
    "'''When an exception is raised in a Python program and is not handled, the program will terminate abruptly and display an error message.\n",
    "This error message will typically contain information about the type of exception that was raised, as well as a traceback that shows the line of code where the exception occurred.'''\n",
    "#Here is an example of an unhandled exception in Python:\n",
    "def divide_by_zero():\n",
    "    return 1 / 0\n",
    "\n",
    "divide_by_zero()\n",
    "'''In this code, the divide_by_zero() function attempts to divide 1 by 0, which is an invalid operation in mathematics. When this line of code is executed, a ZeroDivisionError exception is raised.\n",
    "Since there is no try/except block to catch and handle this exception, the program crashes and raises an error message:'''"
   ]
  },
  {
   "cell_type": "code",
   "execution_count": 3,
   "id": "d3ca9c50-3b3a-489e-8e3c-334b2678e094",
   "metadata": {},
   "outputs": [
    {
     "name": "stdout",
     "output_type": "stream",
     "text": [
      "5.0\n",
      "Error: division by zero\n",
      "None\n",
      "Error: unsupported operand type\n",
      "None\n"
     ]
    }
   ],
   "source": [
    "#Q3\n",
    "'''Python has try/except statements that are used to catch and handle exceptions.\n",
    "The try block is used to enclose the code that may raise an exception, while the except block is used to handle the exception and provide an appropriate response or recovery mechanism.'''\n",
    "\n",
    "#Here is an example of how to use try/except statements to catch and handle exceptions in Python:\n",
    "def divide(num1, num2):\n",
    "    try:\n",
    "        result = num1 / num2\n",
    "    except ZeroDivisionError:\n",
    "        print(\"Error: division by zero\")\n",
    "        return None\n",
    "    except TypeError:\n",
    "        print(\"Error: unsupported operand type\")\n",
    "        return None\n",
    "    else:\n",
    "        return result\n",
    "\n",
    "print(divide(10, 2))   # Output: 5.0\n",
    "print(divide(10, 0))   # Output: Error: division by zero, None\n",
    "print(divide(10, 'a')) # Output: Error: unsupported operand type, None\n"
   ]
  },
  {
   "cell_type": "code",
   "execution_count": 4,
   "id": "3500ed68-328e-49f2-8d84-a04773725c42",
   "metadata": {},
   "outputs": [
    {
     "name": "stdin",
     "output_type": "stream",
     "text": [
      "Enter a number:  25\n",
      "Enter another number:  56\n"
     ]
    },
    {
     "name": "stdout",
     "output_type": "stream",
     "text": [
      "The result is:  0.44642857142857145\n",
      "The file does not exist.\n"
     ]
    },
    {
     "ename": "NameError",
     "evalue": "name 'f' is not defined",
     "output_type": "error",
     "traceback": [
      "\u001b[0;31m---------------------------------------------------------------------------\u001b[0m",
      "\u001b[0;31mNameError\u001b[0m                                 Traceback (most recent call last)",
      "Cell \u001b[0;32mIn[4], line 37\u001b[0m\n\u001b[1;32m     35\u001b[0m     \u001b[38;5;28mprint\u001b[39m(\u001b[38;5;124m\"\u001b[39m\u001b[38;5;124mThe file does not exist.\u001b[39m\u001b[38;5;124m\"\u001b[39m)\n\u001b[1;32m     36\u001b[0m \u001b[38;5;28;01mfinally\u001b[39;00m:\n\u001b[0;32m---> 37\u001b[0m     \u001b[43mf\u001b[49m\u001b[38;5;241m.\u001b[39mclose()\n\u001b[1;32m     38\u001b[0m \u001b[38;5;124;03m'''In this example, the try block tries to open and read a file called example.txt. \u001b[39;00m\n\u001b[1;32m     39\u001b[0m \u001b[38;5;124;03mIf the file does not exist, a FileNotFoundError exception is raised, and the program prints an error message.\u001b[39;00m\n\u001b[1;32m     40\u001b[0m \u001b[38;5;124;03mIn this case, the finally block closes the file handle using the close() method. This ensures that the file is properly closed, even if an exception occurred while reading it.\u001b[39;00m\n\u001b[1;32m     41\u001b[0m \u001b[38;5;124;03mUsing finally is useful for ensuring that resources are released or cleaned up properly, especially if the code in the try block raises an exception.\u001b[39;00m\n\u001b[1;32m     42\u001b[0m \u001b[38;5;124;03m'''\u001b[39;00m\n\u001b[1;32m     47\u001b[0m \u001b[38;5;66;03m#(C) raise\u001b[39;00m\n",
      "\u001b[0;31mNameError\u001b[0m: name 'f' is not defined"
     ]
    }
   ],
   "source": [
    "#Q4\n",
    "#(a) try and else\n",
    "'''try and else are two of the key statements in Python's exception handling mechanism.\n",
    "The try statement encloses a block of code that may raise an exception. If an exception is raised within the try block, the program jumps to the corresponding except block that handles the exception. \n",
    "If no exception is raised, the program continues to execute the code in the else block.'''\n",
    "#Here's an example:\n",
    "try:\n",
    "    x = int(input(\"Enter a number: \"))\n",
    "    y = int(input(\"Enter another number: \"))\n",
    "    z = x / y\n",
    "except ValueError:\n",
    "    print(\"Invalid input. Please enter a number.\")\n",
    "except ZeroDivisionError:\n",
    "    print(\"Cannot divide by zero.\")\n",
    "else:\n",
    "    print(\"The result is: \", z)\n",
    "'''In this example, the try block asks the user to enter two numbers and tries to divide them.\n",
    "If the user enters a non-numeric value, a ValueError is raised and the program prints an error message.\n",
    "If the user enters zero for the second number, a ZeroDivisionError is raised and the program prints another error message.\n",
    "If the division is successful, the program prints the result.\n",
    "The else block is executed if no exception is raised, so if the user enters two valid numbers, the program prints the result without any error messages.'''\n",
    "\n",
    "\n",
    "\n",
    "\n",
    "\n",
    "#(b) finally\n",
    "'''Regardless of whether an exception is raised or not, the finally block is always executed. '''\n",
    "#Here's an example:\n",
    "try:\n",
    "    f = open('example.txt', 'r')\n",
    "    data = f.read()\n",
    "    print(data)\n",
    "except FileNotFoundError:\n",
    "    print(\"The file does not exist.\")\n",
    "finally:\n",
    "    f.close()\n",
    "'''In this example, the try block tries to open and read a file called example.txt. \n",
    "If the file does not exist, a FileNotFoundError exception is raised, and the program prints an error message.\n",
    "In this case, the finally block closes the file handle using the close() method. This ensures that the file is properly closed, even if an exception occurred while reading it.\n",
    "Using finally is useful for ensuring that resources are released or cleaned up properly, especially if the code in the try block raises an exception.\n",
    "'''\n",
    "\n",
    "\n",
    "\n",
    "\n",
    "#(C) raise\n",
    "'''The raise statement in Python is used to explicitly raise an exception. \n",
    "This can be useful for creating custom exceptions or for raising exceptions in response to specific conditions that cannot be handled by existing exception types.'''\n",
    "#Here is an example of how to use the raise statement to raise a custom exception:\n",
    "class CustomException(Exception):\n",
    "    pass\n",
    "\n",
    "def function_that_raises_exception():\n",
    "    raise CustomException(\"This is a custom exception.\")\n",
    "\n",
    "try:\n",
    "    function_that_raises_exception()\n",
    "except CustomException as e:\n",
    "    print(e)\n",
    "# In this example, a custom exception called CustomException is defined as a subclass of the built-in Exception class.\n",
    "\n",
    "# The function_that_raises_exception() function raises the CustomException with a custom error message.\n",
    "\n",
    "# In the try block, the function is called. If the function raises a CustomException, the program jumps to the corresponding except block that handles the exception. The error message that was raised is printed using the print() statement.\n",
    "\n",
    "# Using the raise statement can be useful for creating more specific and informative error messages that help with debugging and troubleshooting.In this example, a custom exception called CustomException is defined as a subclass of the built-in Exception class.\n",
    "\n",
    "# The function_that_raises_exception() function raises the CustomException with a custom error message.\n",
    "\n",
    "# In the try block, the function is called. If the function raises a CustomException, the program jumps to the corresponding except block that handles the exception. The error message that was raised is printed using the print() statement.\n",
    "\n",
    "# Using the raise statement can be useful for creating more specific and informative error messages that help with debugging and troubleshooting.\n",
    "\n"
   ]
  },
  {
   "cell_type": "code",
   "execution_count": 6,
   "id": "913fc1a9-4f43-45e6-a18d-7a329cb0d9d3",
   "metadata": {},
   "outputs": [
    {
     "name": "stdout",
     "output_type": "stream",
     "text": [
      "Insufficient balance.\n"
     ]
    },
    {
     "data": {
      "text/plain": [
       "'In this example, we define a custom exception called InsufficientBalanceError by creating a new class that inherits from the built-in Exception class. We then define a class called Account that has a withdraw() method.\\n\\nIf the amount to be withdrawn is greater than the current balance, the withdraw() method raises the InsufficientBalanceError exception with a custom error message. Otherwise, it reduces the balance by the amount to be withdrawn and prints a success message.\\n\\nIn the try block, we create an Account object with an initial balance of 1000 and try to withdraw 2000. Since the balance is insufficient, the InsufficientBalanceError is raised and caught by the corresponding except block, which prints the custom error message.'"
      ]
     },
     "execution_count": 6,
     "metadata": {},
     "output_type": "execute_result"
    }
   ],
   "source": [
    "#Q5\n",
    "'''Custom exceptions in Python are user-defined exceptions that can be used to provide more specific and informative error messages for specific situations. \n",
    "They are defined by creating a new class that inherits from the built-in Exception class or one of its subclasses.'''\n",
    "\n",
    "\n",
    "'''We need custom exceptions in Python when we want to raise an exception in response to specific conditions that cannot be handled by existing exception types. \n",
    "Custom exceptions can also help with debugging and troubleshooting by providing more specific information about the cause of the error.'''\n",
    "\n",
    "'''Here are some specific reasons why we may need custom exceptions:\n",
    "\n",
    "Specificity\n",
    "\n",
    "Debugging\n",
    "\n",
    "Code organization\n",
    "\n",
    "Flexibility'''\n",
    "\n",
    "#Example\n",
    "class InsufficientBalanceError(Exception):\n",
    "    pass\n",
    "\n",
    "class Account:\n",
    "    def __init__(self, balance):\n",
    "        self.balance = balance\n",
    "        \n",
    "    def withdraw(self, amount):\n",
    "        if amount > self.balance:\n",
    "            raise InsufficientBalanceError(\"Insufficient balance.\")\n",
    "        else:\n",
    "            self.balance -= amount\n",
    "            print(f\"Withdrawal successful. Remaining balance: {self.balance}\")\n",
    "\n",
    "try:\n",
    "    account = Account(1000)\n",
    "    account.withdraw(2000)\n",
    "except InsufficientBalanceError as e:\n",
    "    print(e)\n",
    "'''In this example, we define a custom exception called InsufficientBalanceError by creating a new class that inherits from the built-in Exception class. We then define a class called Account that has a withdraw() method.\n",
    "\n",
    "If the amount to be withdrawn is greater than the current balance, the withdraw() method raises the InsufficientBalanceError exception with a custom error message. Otherwise, it reduces the balance by the amount to be withdrawn and prints a success message.\n",
    "\n",
    "In the try block, we create an Account object with an initial balance of 1000 and try to withdraw 2000. Since the balance is insufficient, the InsufficientBalanceError is raised and caught by the corresponding except block, which prints the custom error message.'''\n",
    "\n"
   ]
  },
  {
   "cell_type": "code",
   "execution_count": 8,
   "id": "7535ec7d-32ec-437f-8f1d-5442e2c03a9c",
   "metadata": {},
   "outputs": [
    {
     "name": "stdin",
     "output_type": "stream",
     "text": [
      "Enter your age:  555\n"
     ]
    },
    {
     "name": "stdout",
     "output_type": "stream",
     "text": [
      "This much age isn't possible\n"
     ]
    }
   ],
   "source": [
    "#Q5\n",
    "class InvalidAgeError(Exception):\n",
    "    pass\n",
    "\n",
    "def calculate_years_until_retirement(age):\n",
    "    if age < 0:\n",
    "        raise InvalidAgeError(\"Age cannot be negative.\")\n",
    "    elif age>150:\n",
    "        raise InvalidAgeError(\"This much age isn't possible\")\n",
    "    years_until_retirement = 65 - age\n",
    "    return years_until_retirement\n",
    "\n",
    "try:\n",
    "    age = int(input(\"Enter your age: \"))\n",
    "    years = calculate_years_until_retirement(age)\n",
    "    print(f\"You have {years} years until retirement.\")\n",
    "except InvalidAgeError as e:\n",
    "    print(e)\n"
   ]
  },
  {
   "cell_type": "code",
   "execution_count": null,
   "id": "61f90a2d-38eb-4d2b-b920-fb4d72b7ce35",
   "metadata": {},
   "outputs": [],
   "source": []
  }
 ],
 "metadata": {
  "kernelspec": {
   "display_name": "Python 3 (ipykernel)",
   "language": "python",
   "name": "python3"
  },
  "language_info": {
   "codemirror_mode": {
    "name": "ipython",
    "version": 3
   },
   "file_extension": ".py",
   "mimetype": "text/x-python",
   "name": "python",
   "nbconvert_exporter": "python",
   "pygments_lexer": "ipython3",
   "version": "3.10.8"
  }
 },
 "nbformat": 4,
 "nbformat_minor": 5
}
