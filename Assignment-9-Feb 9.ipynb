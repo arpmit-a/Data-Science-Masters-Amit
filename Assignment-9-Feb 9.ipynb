{
 "cells": [
  {
   "cell_type": "code",
   "execution_count": 1,
   "id": "abeb30d5-3e35-4004-a2e2-7966ec6f2bbd",
   "metadata": {},
   "outputs": [],
   "source": [
    "#Q1\n",
    "class Vehicle:\n",
    "    def __init__(self,name_of_vehicle, max_speed, average_of_vehicle):\n",
    "        self.name_of_vehicle=name_of_vehicle\n",
    "        self.max_speed=max_speed\n",
    "        self.average_of_vehicle=average_of_vehicle"
   ]
  },
  {
   "cell_type": "code",
   "execution_count": 3,
   "id": "31d0b5c7-8e0a-44c9-84cf-61af28cba32c",
   "metadata": {},
   "outputs": [],
   "source": [
    "#Q2\n",
    "class car(Vehicle):\n",
    "    '''Here car is the child class'''\n",
    "    def seating_capacity(self,capacity):\n",
    "        self.capacity=capacity\n",
    "        return  self.capacity, self.name_of_vehicle\n"
   ]
  },
  {
   "cell_type": "code",
   "execution_count": 18,
   "id": "9da0a7d6-2f29-49c5-b19c-615a01492b06",
   "metadata": {},
   "outputs": [
    {
     "name": "stdout",
     "output_type": "stream",
     "text": [
      "In Class1\n",
      "In Class2\n",
      "In Class3\n",
      "In Class4\n"
     ]
    }
   ],
   "source": [
    "#Q3\n",
    "'''When a class is derived from more than one base class it is called multiple Inheritance. \n",
    "The derived class inherits all the features of the base case.'''\n",
    "#Example\n",
    "class Class1:\n",
    "    def m1(self):\n",
    "        print(\"In Class1\")\n",
    "class Class2:\n",
    "    def m2(self):\n",
    "        print(\"In Class2\")\n",
    "class Class3:\n",
    "    def m3(self):\n",
    "        print(\"In Class3\")\n",
    "class Class4(Class1,Class2,Class3):\n",
    "    def m4(self):\n",
    "        print(\"In Class4\")\n",
    "\n",
    "obj=Class4()\n",
    "obj.m1()\n",
    "obj.m2()\n",
    "obj.m3()\n",
    "obj.m4()"
   ]
  },
  {
   "cell_type": "code",
   "execution_count": 9,
   "id": "d2906447-e236-4b5f-b2c7-cd9106c11bd7",
   "metadata": {},
   "outputs": [
    {
     "name": "stdout",
     "output_type": "stream",
     "text": [
      "setter method called\n",
      "getter method called\n",
      "10\n"
     ]
    }
   ],
   "source": [
    "#Q4\n",
    "'''The main purpose of using getters and setters in object-oriented programs is to ensure data encapsulation. \n",
    "Private variables in python are not actually hidden fields like in other object oriented languages. \n",
    "Getters and Setters in python are often used when:\n",
    "    We use getters & setters to add validation logic around getting and setting a value.\n",
    "    To avoid direct access of a class field i.e. private variables cannot be accessed directly or modified by external user.\n",
    "    Using property() function to achieve getters and setters behaviour'''\n",
    "\n",
    "# Python program showing a\n",
    "# use of property() function\n",
    "\n",
    "class Geeks:\n",
    "\tdef __init__(self):\n",
    "\t\tself._age = 0\n",
    "\t\n",
    "\t# function to get value of _age\n",
    "\tdef get_age(self):\n",
    "\t\tprint(\"getter method called\")\n",
    "\t\treturn self._age\n",
    "\t\n",
    "\t# function to set value of _age\n",
    "\tdef set_age(self, a):\n",
    "\t\tprint(\"setter method called\")\n",
    "\t\tself._age = a\n",
    "\n",
    "\t# function to delete _age attribute\n",
    "\tdef del_age(self):\n",
    "\t\tdel self._age\n",
    "\t\n",
    "\tage = property(get_age, set_age, del_age)\n",
    "\n",
    "mark = Geeks()\n",
    "\n",
    "mark.age = 10\n",
    "\n",
    "print(mark.age)\n"
   ]
  },
  {
   "cell_type": "code",
   "execution_count": 2,
   "id": "5540dd5d-6b24-4c46-8d01-909f86aa2d2d",
   "metadata": {},
   "outputs": [
    {
     "name": "stdout",
     "output_type": "stream",
     "text": [
      "23\n",
      "24\n"
     ]
    }
   ],
   "source": [
    "#Q5\n",
    "'''Method overriding is an ability of any object-oriented programming language that allows a subclass or child class to provide a specific implementation of a method that is already provided by one of its super-classes or parent classes.\n",
    "When a method in a subclass has the same name, same parameters or signature and same return type(or sub-type) as a method in its super-class, then the method in the subclass is said to override the method in the super-class.'''\n",
    "class Parent:\n",
    "    def __init__(self,name):\n",
    "        self.name=name\n",
    "    def show(self):\n",
    "        print(self.name)\n",
    "class child(Parent):\n",
    "    def __init__(self,name):\n",
    "        self.name=name\n",
    "    def show(self):\n",
    "        print(self.name)\n",
    "obj1=Parent(23)\n",
    "obj2=child(24)\n",
    "\n",
    "obj1.show()\n",
    "obj2.show()"
   ]
  },
  {
   "cell_type": "code",
   "execution_count": null,
   "id": "202e9a7a-5316-4cdf-929a-3e92d8c8c4d6",
   "metadata": {},
   "outputs": [],
   "source": []
  }
 ],
 "metadata": {
  "kernelspec": {
   "display_name": "Python 3 (ipykernel)",
   "language": "python",
   "name": "python3"
  },
  "language_info": {
   "codemirror_mode": {
    "name": "ipython",
    "version": 3
   },
   "file_extension": ".py",
   "mimetype": "text/x-python",
   "name": "python",
   "nbconvert_exporter": "python",
   "pygments_lexer": "ipython3",
   "version": "3.10.8"
  }
 },
 "nbformat": 4,
 "nbformat_minor": 5
}
