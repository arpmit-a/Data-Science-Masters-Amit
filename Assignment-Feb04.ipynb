{
 "cells": [
  {
   "cell_type": "code",
   "execution_count": 13,
   "id": "cccc230f-399a-4834-922f-dd58bd8fcf10",
   "metadata": {},
   "outputs": [
    {
     "name": "stdout",
     "output_type": "stream",
     "text": [
      "[('Virat Kohli', 24936), ('Jack Kallis', 25534), ('Ricky Ponting', 27483), ('Sachin Tendulkar', 34357)]\n"
     ]
    }
   ],
   "source": [
    "#Q1\n",
    "lst=[('Sachin Tendulkar', 34357), ('Ricky Ponting', 27483), ('Jack Kallis', 25534), ('Virat Kohli', 24936)]\n",
    "newList = sorted(lst, key = lambda x : x[1])\n",
    "print(newList)\n",
    "''' I could've used sort() method also. The diference between sort and sorted is that sorted makes a new updated  list  but sort do the changes on the original list'''"
   ]
  },
  {
   "cell_type": "code",
   "execution_count": 10,
   "id": "1415392e-95fc-4c34-922a-82d5207fa446",
   "metadata": {},
   "outputs": [
    {
     "data": {
      "text/plain": [
       "[1, 4, 9, 16, 25, 36, 49, 64, 81, 100]"
      ]
     },
     "execution_count": 10,
     "metadata": {},
     "output_type": "execute_result"
    }
   ],
   "source": [
    "#Q2\n",
    "lst2=[1, 2, 3, 4, 5, 6, 7, 8, 9, 10]\n",
    "list(map(lambda x: x**2,lst2))"
   ]
  },
  {
   "cell_type": "code",
   "execution_count": 14,
   "id": "4cd59da3-8330-4d26-a1a2-3bf27cbd9ac5",
   "metadata": {},
   "outputs": [
    {
     "data": {
      "text/plain": [
       "('1', '2', '3', '4', '5', '6', '7', '8', '9', '10')"
      ]
     },
     "execution_count": 14,
     "metadata": {},
     "output_type": "execute_result"
    }
   ],
   "source": [
    "#Q3\n",
    "lst3=[1, 2, 3, 4, 5, 6, 7, 8, 9, 10]\n",
    "tuple(map(lambda x:str(x),lst3))"
   ]
  },
  {
   "cell_type": "code",
   "execution_count": 20,
   "id": "f6798dd1-253b-45b6-8a67-7e54f2823194",
   "metadata": {},
   "outputs": [
    {
     "data": {
      "text/plain": [
       "15511210043330985984000000"
      ]
     },
     "execution_count": 20,
     "metadata": {},
     "output_type": "execute_result"
    }
   ],
   "source": [
    "#Q4\n",
    "from functools import reduce\n",
    "lst4=[i for i in range(1,26)]\n",
    "reduce(lambda x,y:x*y,lst4)\n"
   ]
  },
  {
   "cell_type": "code",
   "execution_count": 21,
   "id": "44cfe8fb-9cfc-4d92-9e35-393606077471",
   "metadata": {},
   "outputs": [
    {
     "name": "stdout",
     "output_type": "stream",
     "text": [
      "15511210043330985984000000\n"
     ]
    }
   ],
   "source": [
    "'''For cross checking if the previous output is correct or not'''\n",
    "prod=1\n",
    "for i in range(1,26):\n",
    "    prod*=i\n",
    "print(prod)"
   ]
  },
  {
   "cell_type": "code",
   "execution_count": 25,
   "id": "5d193877-de04-4d3d-a8fb-fa38f1dd8e91",
   "metadata": {},
   "outputs": [
    {
     "data": {
      "text/plain": [
       "[6, 60, 90, 120]"
      ]
     },
     "execution_count": 25,
     "metadata": {},
     "output_type": "execute_result"
    }
   ],
   "source": [
    "#Q5\n",
    "'''If a number is divisible by both 2 & 3 then it must be divisible by 6'''\n",
    "lst5=[2, 3, 6, 9, 27, 60, 90, 120, 55, 46]\n",
    "list(filter(lambda x: x%6==0,lst5))\n"
   ]
  },
  {
   "cell_type": "code",
   "execution_count": 27,
   "id": "4d8f8a9a-c866-4938-95c9-0201013fe1c9",
   "metadata": {},
   "outputs": [
    {
     "data": {
      "text/plain": [
       "['php', 'aba', 'radar', 'level']"
      ]
     },
     "execution_count": 27,
     "metadata": {},
     "output_type": "execute_result"
    }
   ],
   "source": [
    "#Q6\n",
    "lst6=['python', 'php', 'aba', 'radar', 'level']\n",
    "list(filter(lambda x: x==x[::-1],lst6))'''x[::-1] reverses the string as it's also an iterable'''"
   ]
  }
 ],
 "metadata": {
  "kernelspec": {
   "display_name": "Python 3 (ipykernel)",
   "language": "python",
   "name": "python3"
  },
  "language_info": {
   "codemirror_mode": {
    "name": "ipython",
    "version": 3
   },
   "file_extension": ".py",
   "mimetype": "text/x-python",
   "name": "python",
   "nbconvert_exporter": "python",
   "pygments_lexer": "ipython3",
   "version": "3.10.8"
  }
 },
 "nbformat": 4,
 "nbformat_minor": 5
}
