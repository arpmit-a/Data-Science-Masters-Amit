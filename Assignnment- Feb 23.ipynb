{
 "cells": [
  {
   "cell_type": "code",
   "execution_count": 3,
   "id": "ee92ce06-f15b-4ead-9f6b-40fe6fb696dc",
   "metadata": {},
   "outputs": [
    {
     "name": "stdout",
     "output_type": "stream",
     "text": [
      "0     4\n",
      "1     8\n",
      "2    15\n",
      "3    16\n",
      "4    23\n",
      "5    42\n",
      "dtype: int64\n"
     ]
    }
   ],
   "source": [
    "#Q1\n",
    "import pandas as pd\n",
    "a=[4, 8, 15, 16, 23, 42]\n",
    "ser=pd.Series(a)\n",
    "print(ser)"
   ]
  },
  {
   "cell_type": "code",
   "execution_count": 7,
   "id": "6c36a685-4dbf-4ab4-9c8c-18fc3f943fee",
   "metadata": {},
   "outputs": [
    {
     "name": "stdout",
     "output_type": "stream",
     "text": [
      "0     2\n",
      "1     3\n",
      "2     4\n",
      "3     5\n",
      "4     6\n",
      "5     7\n",
      "6     8\n",
      "7     9\n",
      "8    10\n",
      "9    11\n",
      "dtype: int64\n"
     ]
    }
   ],
   "source": [
    "#Q2\n",
    "b=[i for i in range(2,12)]\n",
    "ser2=pd.Series(b)\n",
    "print(ser2)"
   ]
  },
  {
   "cell_type": "code",
   "execution_count": 10,
   "id": "b1bc5518-b02e-401d-a38c-6ee2eb568299",
   "metadata": {},
   "outputs": [
    {
     "name": "stdout",
     "output_type": "stream",
     "text": [
      "     Name  Age  Gender\n",
      "0   Alice   25  Female\n",
      "1     Bob   30    Male\n",
      "2  Claire   27  Female\n"
     ]
    }
   ],
   "source": [
    "#Q3\n",
    "c={'Name':[\"Alice\",\"Bob\",\"Claire\"],\n",
    "  'Age':[25,30,27],\n",
    "  'Gender':['Female','Male','Female']}\n",
    "df=pd.DataFrame(c)\n",
    "print(df)"
   ]
  },
  {
   "cell_type": "code",
   "execution_count": 3,
   "id": "f9f4bd46-5e5e-4ff9-a0da-1003a2859fe4",
   "metadata": {},
   "outputs": [
    {
     "name": "stdout",
     "output_type": "stream",
     "text": [
      "     country  population  area\n",
      "0      China        1439  9597\n",
      "1      India        1380  3287\n",
      "2        USA         331  9834\n",
      "3  Indonesia         273  1905\n",
      "4     Brazil         213  8516 \n",
      "\n",
      "0    1439\n",
      "1    1380\n",
      "2     331\n",
      "3     273\n",
      "4     213\n",
      "Name: population, dtype: int64\n"
     ]
    }
   ],
   "source": [
    "#Q4\n",
    "# In pandas, a DataFrame is a two-dimensional, size-mutable, tabular data structure with rows and columns, similar to a spreadsheet or a SQL table. \n",
    "# It is one of the most commonly used data structures in pandas and allows for efficient data manipulation and analysis.\n",
    "\n",
    "# A pandas Series, on the other hand, is a one-dimensional array-like object that can hold any data type, such as integers, floats, and strings, and provides a label for each element in the array, known as an index.\n",
    "\n",
    "#  Let's illustrate this example:\n",
    "import pandas as pd\n",
    "\n",
    "# Create a dictionary of data\n",
    "data = {'country': ['China', 'India', 'USA', 'Indonesia', 'Brazil'],\n",
    "        'population': [1439, 1380, 331, 273, 213],\n",
    "        'area': [9597, 3287, 9834, 1905, 8516]}\n",
    "\n",
    "# Create a DataFrame from the dictionary\n",
    "df = pd.DataFrame(data)\n",
    "\n",
    "# Create a Series from the 'population' column of the DataFrame\n",
    "population_series = df['population']\n",
    "\n",
    "# Print the DataFrame and the Series\n",
    "print(df,\"\\n\")\n",
    "print(population_series)\n"
   ]
  },
  {
   "cell_type": "code",
   "execution_count": 4,
   "id": "619c3c0b-7c67-4198-8b30-9c2028a80d6e",
   "metadata": {},
   "outputs": [],
   "source": [
    "#Q5\n",
    "There are many functions in Pandas that can be used to manipulate data in a DataFrame. Some common ones include:\n",
    "\n",
    "head() and tail(): These functions allow you to view the first or last n rows of a DataFrame. For example, df.head() will show the first five rows of the DataFrame df.\n",
    "\n",
    "describe(): This function provides summary statistics for the numerical columns in a DataFrame, such as the mean, standard deviation, and quartiles. For example, df.describe() will give you summary statistics for the DataFrame df.\n",
    "\n",
    "groupby(): This function allows you to group the rows of a DataFrame based on one or more columns, and then apply a function to each group. For example, df.groupby('column_name').mean() will group the rows of the DataFrame df by the values in column_name, and then calculate the mean for each group.\n",
    "\n",
    "sort_values(): This function allows you to sort the rows of a DataFrame by one or more columns. For example, df.sort_values('column_name') will sort the rows of the DataFrame df in ascending order based on the values in column_name.\n",
    "\n",
    "dropna(): This function allows you to remove rows or columns with missing values from a DataFrame. For example, df.dropna() will remove any rows with missing values from the DataFrame df.\n",
    "\n",
    "fillna(): This function allows you to fill missing values in a DataFrame with a specified value or method, such as filling missing values with the mean of the column. For example, df.fillna(df.mean()) will fill any missing values in the DataFrame df with the mean of each column.\n",
    "\n",
    "One example of when you might use one of these functions is if you have a DataFrame with missing values, and you want to remove those rows before doing further analysis. In that case, you could use the dropna() function to remove the rows with missing values. \n",
    "Another example is if you have a DataFrame with multiple columns, and you want to group the rows by one of the columns and then calculate the mean for\n",
    "\n",
    "\n",
    "\n",
    "\n"
   ]
  },
  {
   "cell_type": "code",
   "execution_count": 5,
   "id": "5e955b5d-06fc-42ef-b037-543fb005fb15",
   "metadata": {},
   "outputs": [],
   "source": [
    "#Q6\n",
    "In Pandas, both Series and DataFrame are mutable in nature, while Panel is considered to be an immutable data structure.\n",
    "\n",
    "This means that you can modify the contents of a Series or DataFrame after it has been created, but you cannot modify the contents of a Panel. \n",
    "Instead, you would need to create a new Panel with the desired modifications."
   ]
  },
  {
   "cell_type": "code",
   "execution_count": 7,
   "id": "1978071a-d379-441f-90a6-672f38010d19",
   "metadata": {},
   "outputs": [
    {
     "data": {
      "text/html": [
       "<div>\n",
       "<style scoped>\n",
       "    .dataframe tbody tr th:only-of-type {\n",
       "        vertical-align: middle;\n",
       "    }\n",
       "\n",
       "    .dataframe tbody tr th {\n",
       "        vertical-align: top;\n",
       "    }\n",
       "\n",
       "    .dataframe thead th {\n",
       "        text-align: right;\n",
       "    }\n",
       "</style>\n",
       "<table border=\"1\" class=\"dataframe\">\n",
       "  <thead>\n",
       "    <tr style=\"text-align: right;\">\n",
       "      <th></th>\n",
       "      <th>col1</th>\n",
       "      <th>col2</th>\n",
       "      <th>col3</th>\n",
       "    </tr>\n",
       "  </thead>\n",
       "  <tbody>\n",
       "    <tr>\n",
       "      <th>0</th>\n",
       "      <td>1</td>\n",
       "      <td>a</td>\n",
       "      <td>True</td>\n",
       "    </tr>\n",
       "    <tr>\n",
       "      <th>1</th>\n",
       "      <td>2</td>\n",
       "      <td>b</td>\n",
       "      <td>False</td>\n",
       "    </tr>\n",
       "    <tr>\n",
       "      <th>2</th>\n",
       "      <td>3</td>\n",
       "      <td>c</td>\n",
       "      <td>True</td>\n",
       "    </tr>\n",
       "  </tbody>\n",
       "</table>\n",
       "</div>"
      ],
      "text/plain": [
       "   col1 col2   col3\n",
       "0     1    a   True\n",
       "1     2    b  False\n",
       "2     3    c   True"
      ]
     },
     "execution_count": 7,
     "metadata": {},
     "output_type": "execute_result"
    }
   ],
   "source": [
    "#Q7\n",
    "import pandas as pd\n",
    "\n",
    "# Create three Series\n",
    "s1 = pd.Series([1, 2, 3])\n",
    "s2 = pd.Series(['a', 'b', 'c'])\n",
    "s3 = pd.Series([True, False, True])\n",
    "\n",
    "# Create a dictionary of Series\n",
    "data = {'col1': s1, 'col2': s2, 'col3': s3}\n",
    "\n",
    "# Create a DataFrame from the dictionary\n",
    "df = pd.DataFrame(data)\n",
    "df\n",
    "In this example, we first create three Series s1, s2, and s3. We then create a dictionary data with keys 'col1', 'col2', and 'col3', and values s1, s2, and s3, respectively. \n",
    "Finally, we use the pd.DataFrame() function to create a DataFrame df from the dictionary."
   ]
  },
  {
   "cell_type": "code",
   "execution_count": null,
   "id": "f7076879-52f9-4407-8ab6-117a3504d326",
   "metadata": {},
   "outputs": [],
   "source": []
  }
 ],
 "metadata": {
  "kernelspec": {
   "display_name": "Python 3 (ipykernel)",
   "language": "python",
   "name": "python3"
  },
  "language_info": {
   "codemirror_mode": {
    "name": "ipython",
    "version": 3
   },
   "file_extension": ".py",
   "mimetype": "text/x-python",
   "name": "python",
   "nbconvert_exporter": "python",
   "pygments_lexer": "ipython3",
   "version": "3.10.8"
  }
 },
 "nbformat": 4,
 "nbformat_minor": 5
}
