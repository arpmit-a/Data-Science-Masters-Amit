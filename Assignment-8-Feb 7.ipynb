{
 "cells": [
  {
   "cell_type": "code",
   "execution_count": 7,
   "id": "ae30d7ad-ff76-45cd-ba63-1ca076e15fa0",
   "metadata": {},
   "outputs": [
    {
     "name": "stdout",
     "output_type": "stream",
     "text": [
      "String.punctuation contains:!\"#$%&'()*+,-./:;<=>?@[\\]^_`{|}~\n"
     ]
    }
   ],
   "source": [
    "#Q1\n",
    "import  string\n",
    "print(f\"String.punctuation contains:{string.punctuation}\")\n",
    "l, up, dig, sp = 0, 0, 0, 0\n",
    "def checkpass(s):\n",
    "    if (len(s) == 10):\n",
    "        for i in s:\n",
    "            if (i.isupper()):\n",
    "                u+=1\n",
    "            if (i.islower()):\n",
    "                l+=1\n",
    "            if(i.isdigit()):\n",
    "                dig+=1\n",
    "            if(i in string.punctuation):\n",
    "                sp+=1\n",
    "            \n",
    "            \n",
    "                                     \n",
    "    if (l>=2 and up>=2 and sp>=3 and d>=1 and l+up+sp+dig==len(s)):\n",
    "        print(\"Valid Password\")\n",
    "    else:\n",
    "        print(\"Invalid Password\") \n",
    "        "
   ]
  },
  {
   "cell_type": "code",
   "execution_count": 43,
   "id": "643641fb-d6de-4c47-8eaf-18a572a0e2c1",
   "metadata": {},
   "outputs": [
    {
     "name": "stdout",
     "output_type": "stream",
     "text": [
      "a's output:  False \n",
      "\n",
      "b's output:  True \n",
      "\n",
      "sorted list is [('orange', 80), ('mango', 99), ('grapes', 1000)]\n",
      "\n",
      "The squares are [1, 4, 9, 16, 25, 36, 49, 64, 81, 100]\n",
      "\n",
      "The squares are [1.0, 1.2599210498948732, 1.4422495703074083, 1.5874010519681994, 1.7099759466766968, 1.8171205928321397, 1.912931182772389, 2.0, 2.080083823051904, 2.154434690031884]\n",
      "\n",
      "The arguemnt that the number is False\n",
      "\n",
      "The filtered list is [1, 3, 5, 7, 9]\n",
      "\n",
      "The +ve filtered list is [1, 2, 3, 4, 5, 6]\n",
      "\n",
      "The -ve filtered list is [-1, -2, -3, -4, -5]\n",
      "\n"
     ]
    }
   ],
   "source": [
    "#Q2\n",
    "#Check if the string starts with a particular letter\n",
    "a=\"Myself Amit\"\n",
    "fun= lambda x : True if x[0]==\"n\" else False\n",
    "print(\"a's output: \",fun(a),\"\\n\")\n",
    "\n",
    "#Check if the string is numeric\n",
    "b=\"12324\"\n",
    "fun2= lambda x: True if b.isnumeric() else False\n",
    "print(\"b's output: \",fun2(b),\"\\n\")\n",
    "\n",
    "#Sort a list of tuples having fruit names and their quantity.\n",
    "lst= [(\"mango\",99),(\"orange\",80), (\"grapes\", 1000)]\n",
    "newlist=sorted(lst,key=lambda x: x[1])\n",
    "print(f\"sorted list is {newlist}\\n\")\n",
    "\n",
    "#Find the squares of numbers from 1 to 10\n",
    "d=[i for i in range(1,11)]\n",
    "def sq(se):\n",
    "    return se**2\n",
    "print(f\"The squares are { list(map(sq,d))}\\n\")\n",
    "\n",
    "#Find the cube root of numbers from 1 to 10\n",
    "def cubroot(s):\n",
    "    return s**(1/3)\n",
    "print(f\"The squares are { list(map(cubroot,d))}\\n\")\n",
    "\n",
    "#Check if a given number is even\n",
    "even=lambda x: True if x%2==0 else False  \n",
    "print(f\"The arguemnt that the number is {even(67)}\\n\")\n",
    "\n",
    "#Filter odd numbers from the given list.\n",
    "lst1=[1,2,3,4,5,6,7,8,9,10]\n",
    "print(f\"The filtered list is {list(filter(lambda x:x%2 !=0,lst1))}\\n\")\n",
    "\n",
    "#Sort a list of integers into positive and negative integers lists\n",
    "lst2=[1,2,3,4,5,6,-1,-2,-3,-4,-5,0]\n",
    "print(f\"The +ve filtered list is {list(filter(lambda x:x>0,lst2))}\\n\")\n",
    "print(f\"The -ve filtered list is {list(filter(lambda x:x<0,lst2))}\\n\")"
   ]
  },
  {
   "cell_type": "code",
   "execution_count": null,
   "id": "5a1d9fb6-7fc8-4e43-a6cd-7d60cc829160",
   "metadata": {},
   "outputs": [],
   "source": []
  }
 ],
 "metadata": {
  "kernelspec": {
   "display_name": "Python 3 (ipykernel)",
   "language": "python",
   "name": "python3"
  },
  "language_info": {
   "codemirror_mode": {
    "name": "ipython",
    "version": 3
   },
   "file_extension": ".py",
   "mimetype": "text/x-python",
   "name": "python",
   "nbconvert_exporter": "python",
   "pygments_lexer": "ipython3",
   "version": "3.10.8"
  }
 },
 "nbformat": 4,
 "nbformat_minor": 5
}
