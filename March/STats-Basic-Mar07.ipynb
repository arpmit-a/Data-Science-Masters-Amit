{
 "cells": [
  {
   "cell_type": "code",
   "execution_count": null,
   "id": "5b5806d5-ddb5-43fb-a4ff-40574ed05578",
   "metadata": {},
   "outputs": [],
   "source": [
    "#Q1\n",
    "The three measures of central tendency are mean, median, and mode.\n",
    "\n"
   ]
  },
  {
   "cell_type": "code",
   "execution_count": null,
   "id": "f033aa1b-b2f5-4916-a361-f80b575ff248",
   "metadata": {},
   "outputs": [],
   "source": [
    "#Q2\n",
    "The mean is the average of a set of numbers, calculated by adding all the values and dividing by the total number of values. \n",
    "The median is the middle value in a sorted list of numbers, or the average of the two middle values if there is an even number of data points. \n",
    "The mode is the value that appears most frequently in a dataset. \n",
    "These measures are used to provide a summary of the central or typical value in a dataset."
   ]
  },
  {
   "cell_type": "code",
   "execution_count": null,
   "id": "a600a4d9-b8cd-46bb-be99-8283bb351f11",
   "metadata": {},
   "outputs": [],
   "source": [
    "#Q3\n",
    "Mean \n",
    "177.01875\n",
    "Median \n",
    "177\n",
    "Mode 178, 177"
   ]
  },
  {
   "cell_type": "code",
   "execution_count": null,
   "id": "b5a0f0c7-16d5-4c99-bcc5-c5f504a900e1",
   "metadata": {},
   "outputs": [],
   "source": [
    "#Q4\n",
    "Standard Deviation=1.7885814036549"
   ]
  },
  {
   "cell_type": "code",
   "execution_count": null,
   "id": "33c09b6e-ebb2-4bb3-8a8f-1b07e51d81e1",
   "metadata": {},
   "outputs": [],
   "source": [
    "#Q5\n",
    "Measures of dispersion like range, variance, and standard deviation are used to describe how spread out the data points are in a dataset. \n",
    "They provide information about the variability of the data.\n",
    "\n",
    "The range is the difference between the maximum and minimum values in the dataset.\n",
    "It provides an absolute measure of spread. \n",
    "For example, if the dataset contains the values {2, 4, 7, 8, 10}, the range would be 10 - 2 = 8. \n",
    "\n",
    "The variance measures how far each data point is from the mean on average. \n",
    "A higher variance indicates the data points are more spread out. \n",
    "It is calculated by summing the squared differences from the mean and dividing by the number of data points. \n",
    "For the example dataset, the variance would be (22 + 02 + 32 + 22 + 02) / 5 = 8. \n",
    "\n",
    "The standard deviation is the square root of the variance. \n",
    "For our example, the standard deviation would be √8 = 2.83. \n",
    "The standard deviation is useful because it is in the same units as the original data. \n",
    "A higher standard deviation indicates more variability in the data.\n",
    "\n",
    "So in summary, range gives a simple absolute measure of spread, while variance and standard deviation provide more sophisticated measures of dispersion around the mean.\n",
    "Higher values indicate the data points are more spread out from each other and the mean."
   ]
  },
  {
   "cell_type": "code",
   "execution_count": 12,
   "id": "a4c79e4d-fc6d-48d8-82de-1fd85c85e2b8",
   "metadata": {},
   "outputs": [],
   "source": [
    "#Q6\n",
    "A Venn diagram is a visual representation used to show the logical relationships between different sets. \n",
    "Venn diagrams consist of circles or other shapes that overlap.\n",
    "Each circle or shape corresponds to a different set.\n",
    "\n",
    "The overlapping areas show the elements that are common between the sets, while the non-overlapping areas show elements that are distinct to each set.\n",
    "\n",
    "Some key properties of Venn diagrams:\n",
    "\n",
    "- Circles or other closed shapes are used to represent sets\n",
    "- Overlapping areas indicate elements common to both sets \n",
    "- Non-overlapping areas indicate elements unique to each set\n",
    "- Venn diagrams allow visualization of set relationships like unions, intersections, etc.\n",
    "- They can involve two or more sets\n",
    "\n",
    "For example, a simple two-set Venn diagram could show the relationship between a set A = {1, 2, 3} and set B = {2, 4, 5}. \n",
    "The overlapping area would contain the number 2 which is common to both sets. The non-overlapping areas would contain 1 and 3 which are unique to set A, and 4 and 5 which are unique to set B.\n",
    "\n",
    "So in summary, Venn diagrams provide a schematic way to visualize logical set relationships and operations like unions and intersections.\n",
    "They are useful for conceptualizing problems and conveying information."
   ]
  },
  {
   "cell_type": "code",
   "execution_count": 11,
   "id": "a5befa2d-0172-429e-8c2d-295628c829b9",
   "metadata": {},
   "outputs": [],
   "source": [
    "#Q7\n",
    "Okay, let's solve this step-by-step:\n",
    "\n",
    "The two given sets are:\n",
    "\n",
    "A = (2,3,4,5,6,7)\n",
    "B = (0,2,6,8,10)\n",
    "\n",
    "(i) A ∩ B (Intersection of A and B):\n",
    "The intersection contains the elements that are common to both sets A and B. Examining the sets, we see that the common elements are 2 and 6.\n",
    "\n",
    "Therefore, A ∩ B = {2, 6}\n",
    "\n",
    "(ii) A ∪ B (Union of A and B): \n",
    "The union contains all the distinct elements that are in A or B or both. Looking at sets A and B, the union would contain:\n",
    "\n",
    "0, 2, 3, 4, 5, 6, 7, 8, 10\n",
    "\n",
    "Therefore, A ∪ B = {0, 2, 3, 4, 5, 6, 7, 8, 10}\n",
    "\n",
    "In summary:\n",
    "(i) A ∩ B = {2, 6} \n",
    "(ii) A ∪ B = {0, 2, 3, 4, 5, 6, 7, 8, 10}"
   ]
  },
  {
   "cell_type": "code",
   "execution_count": null,
   "id": "e5d3257d-7cd2-4143-b90f-1630fe60926a",
   "metadata": {},
   "outputs": [],
   "source": [
    "#Q8\n",
    "Skewness refers to the asymmetry in the distribution of data around the mean. It provides information about how the tails of a distribution differ from a normal distribution.\n",
    "\n",
    "Key points about skewness:\n",
    "\n",
    "- Skewness can be positive, negative, or zero.\n",
    "\n",
    "- Positive skew (right skew) means the tail on the right side of the distribution is longer. The bulk of the values lie to the left of the mean and the extreme values are to the right.\n",
    "\n",
    "- Negative skew (left skew) is the opposite - the tail on the left is longer. The bulk of values are to the right of the mean and extremes are on the left. \n",
    "\n",
    "- Zero skewness indicates a symmetrical distribution of data around the mean, as in a normal distribution.\n",
    "\n",
    "- Skewness is quantified by the skewness statistic. A positive value indicates positive skew, a negative value indicates negative skew.\n",
    "\n",
    "- Higher absolute values of skewness indicate a greater degree of asymmetry in the data.\n",
    "\n",
    "- Skewness helps identify outliers and asymmetry not visible from measures like mean and standard deviation.\n",
    "\n",
    "- Highly skewed data can distort statistical analysis, so skewness should be examined before applying statistical tests.\n",
    "\n",
    "- Data transformations are often applied on skewed data to make it more symmetrical before analysis. Common transforms are log, sqrt, cube root etc.\n",
    "\n",
    "So in summary, skewness measures the lack of symmetry in data distribution and can reveal insights into outliers, tails, and asymmetry not captured by other descriptive statistics. Examining skewness is important for statistical analysis."
   ]
  },
  {
   "cell_type": "code",
   "execution_count": null,
   "id": "5f138509-ca75-4087-a9db-6b37cb2492ae",
   "metadata": {},
   "outputs": [],
   "source": [
    "#Q9\n",
    "If a data set is right skewed (or positively skewed), it means the tail of the distribution extends further towards the right or higher values.\n",
    "The bulk of the data points lie to the left of the mean clustered towards the lower values.\n",
    "\n",
    "In a right skewed distribution:\n",
    "\n",
    "- The mean is pulled towards the right by extreme values/outliers on the right tail.\n",
    "\n",
    "- The median lies to the left of the mean.\n",
    "\n",
    "This is because the median is the middle value when the data is arranged in ascending order. \n",
    "Since most values are concentrated on the lower end for a right skewed data, the median will tend to lie towards the left side compared to the mean.\n",
    "\n",
    "For example, if we have a right skewed data set:\n",
    "\n",
    "2, 4, 6, 7, 7, 8, 10, 12, 18\n",
    "\n",
    "Mean = 8.44 \n",
    "Median = 7\n",
    "\n",
    "As you can see, the median 7 lies to the left side of mean 8.44.\n",
    "\n",
    "So in summary, for a right or positively skewed data set, the mean is pulled to the right of the median due to the extreme values on the right tail.\n",
    "The median tends to lie closer to the bulk of lower values compared to the shifted mean."
   ]
  },
  {
   "cell_type": "code",
   "execution_count": null,
   "id": "aec9aca4-b591-4a68-9cbf-5b2053e102e6",
   "metadata": {},
   "outputs": [],
   "source": [
    "#Q10\n",
    "Covariance measures the degree to which two variables change together. \n",
    "It can be positive or negative but doesnot provide a standardized measure of the strength or direction of the relationship. \n",
    "Correlation, on the other hand, is a standardized measure of the strength and direction of the linear relationship between two variables. \n",
    "It falls within the range of -1 to 1, where -1 indicates a perfect negative correlation, 1 indicates a perfect positive correlation, and 0 indicates no linear correlation. \n",
    "These measures are used in statistical analysis to understand the relationships between variables."
   ]
  },
  {
   "cell_type": "code",
   "execution_count": null,
   "id": "59bafc58-c210-4fff-ac93-f11638b93336",
   "metadata": {},
   "outputs": [],
   "source": [
    "#Q11\n",
    "The formula for calculating the sample mean is:\n",
    "\n",
    "Sample Mean = Σ(x) / n\n",
    "\n",
    "Where:\n",
    "\n",
    "Σ(x) = Sum of all the values in the sample \n",
    "n = Number of observations in the sample\n",
    "\n",
    "For example, if the dataset is:\n",
    "\n",
    "{2, 3, 6, 7, 10, 15}\n",
    "\n",
    "Then:\n",
    "\n",
    "n = 6 (number of observations)\n",
    "Σ(x) = 2 + 3 + 6 + 7 + 10 + 15 = 43 \n",
    "\n",
    "Plugging this into the formula:\n",
    "\n",
    "Sample Mean = Σ(x) / n \n",
    "           = 43 / 6\n",
    "           = 7.17\n",
    "\n",
    "So the sample mean for this dataset is 7.17. \n",
    "\n",
    "In general, we calculate the sample mean by:\n",
    "1) Taking the sum of all values in the dataset \n",
    "2) Dividing the sum by the total number of observations.\n",
    "\n",
    "This gives us the average value of the sample, which estimates the population mean when the entire population data is not available."
   ]
  },
  {
   "cell_type": "code",
   "execution_count": null,
   "id": "11009ad1-b71e-47e1-927b-0d2e0752f378",
   "metadata": {},
   "outputs": [],
   "source": [
    "#Q12\n",
    "For a normal distribution, the mean, median, and mode are all equal and located at the center of the distribution."
   ]
  },
  {
   "cell_type": "code",
   "execution_count": null,
   "id": "d8ebdc4b-9bfb-430b-aaff-3f08640d3e8e",
   "metadata": {},
   "outputs": [],
   "source": [
    "#Q13\n",
    "Covariance measures the extent to which two variables change together, but it is not standardized and doesn't provide information about the strength or direction of the relationship. \n",
    "Correlation, on the other hand, is a standardized measure that quantifies the strength and direction of the linear relationship between two variables, falling within the range of -1 to 1."
   ]
  },
  {
   "cell_type": "code",
   "execution_count": null,
   "id": "36f81e08-b59d-40b6-b180-9b93760d485f",
   "metadata": {},
   "outputs": [],
   "source": [
    "#Q14\n",
    "Outliers can greatly affect measures of central tendency like the mean and median as well as measures of dispersion like standard deviation and variance. \n",
    "\n",
    "Here is an example to demonstrate this:\n",
    "\n",
    "Original dataset: {2, 4, 6, 8, 10}\n",
    "Mean = 6 \n",
    "Median = 6\n",
    "Standard deviation = 2.83 \n",
    "\n",
    "Now let's add an outlier value of 25:\n",
    "\n",
    "New dataset: {2, 4, 6, 8, 10, 25}\n",
    "New mean = 9.33 (shifted higher due to outlier)\n",
    "New median = 7 (unchanged) \n",
    "New standard deviation = 8.32 (increased due to outlier)\n",
    "\n",
    "As you can see, the outlier has caused the mean and standard deviation to increase significantly. However, the median remains unchanged as it is resistant to outliers.\n",
    "\n",
    "In general, outliers can skew measures like the mean towards their extreme values. This gives a distorted view of the center and spread of the data. Median and other robust measures are less affected by outliers.\n",
    "\n",
    "Checking for outliers is important before applying statistical analysis on a dataset. Outliers may need to be managed - either accommodation, correction or removal based on context."
   ]
  }
 ],
 "metadata": {
  "kernelspec": {
   "display_name": "Python 3 (ipykernel)",
   "language": "python",
   "name": "python3"
  },
  "language_info": {
   "codemirror_mode": {
    "name": "ipython",
    "version": 3
   },
   "file_extension": ".py",
   "mimetype": "text/x-python",
   "name": "python",
   "nbconvert_exporter": "python",
   "pygments_lexer": "ipython3",
   "version": "3.10.8"
  }
 },
 "nbformat": 4,
 "nbformat_minor": 5
}
