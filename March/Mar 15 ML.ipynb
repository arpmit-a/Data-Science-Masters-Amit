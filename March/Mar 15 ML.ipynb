{
 "cells": [
  {
   "cell_type": "code",
   "execution_count": null,
   "id": "a0113302-6b5c-4586-8f5f-4140e9fcda9d",
   "metadata": {},
   "outputs": [],
   "source": [
    "\n",
    "### Q1: Explain the following with an example:\n",
    "- **Artificial Intelligence (AI):** \n",
    "  AI is the simulation of human intelligence in machines that are programmed to think like humans and mimic their actions. An example of AI is a chatbot that can hold a conversation with a human by understanding and responding to their questions.\n",
    "\n",
    "- **Machine Learning (ML):**\n",
    "  ML is a subset of AI that focuses on the development of algorithms that allow computers to learn from and make predictions or decisions based on data. An example of ML is a spam email filter that learns to classify emails as spam or not spam based on previous examples.\n",
    "\n",
    "- **Deep Learning (DL):**\n",
    "  DL is a subset of ML that uses neural networks with many layers (deep neural networks) to analyze various factors of data. An example of DL is image recognition software that can identify objects, such as cars or people, in an image.\n",
    "\n"
   ]
  },
  {
   "cell_type": "code",
   "execution_count": null,
   "id": "8279513f-5ad8-453f-b354-892a34ccb52d",
   "metadata": {},
   "outputs": [],
   "source": [
    "### Q2: What is supervised learning? List some examples of supervised learning.\n",
    "- **Supervised Learning:** \n",
    "  Supervised learning is a type of machine learning where the model is trained on labeled data. It learns from the input-output pairs and makes predictions on new, unseen data. Examples include:\n",
    "  - Linear Regression\n",
    "  - Logistic Regression\n",
    "  - Decision Trees\n",
    "  - Support Vector Machines (SVM)\n",
    "  - Neural Networks\n",
    "\n"
   ]
  },
  {
   "cell_type": "code",
   "execution_count": null,
   "id": "0c371572-a914-4a80-becb-735029c4ac26",
   "metadata": {},
   "outputs": [],
   "source": [
    "### Q3: What is unsupervised learning? List some examples of unsupervised learning.\n",
    "- **Unsupervised Learning:** \n",
    "  Unsupervised learning is a type of machine learning where the model is trained on unlabeled data. The system tries to learn the patterns and the structure from the input data. Examples include:\n",
    "  - K-Means Clustering\n",
    "  - Hierarchical Clustering\n",
    "  - Principal Component Analysis (PCA)\n",
    "  - Anomaly Detection\n",
    "  - Association Rules\n",
    "\n"
   ]
  },
  {
   "cell_type": "code",
   "execution_count": null,
   "id": "a03e7277-77bf-4004-8b5c-3c30da41bdc8",
   "metadata": {},
   "outputs": [],
   "source": [
    "### Q4: What is the difference between AI, ML, DL, and DS?\n",
    "- **Artificial Intelligence (AI):** \n",
    "  The broader concept of machines being able to carry out tasks in a way that we would consider “smart”.\n",
    "\n",
    "- **Machine Learning (ML):**\n",
    "  A subset of AI that involves the creation of algorithms that can modify themselves without human intervention to produce desired outputs by feeding itself through structured data.\n",
    "\n",
    "- **Deep Learning (DL):**\n",
    "  A subset of ML that uses neural networks with many layers. DL algorithms are capable of automatically discovering the representations needed for feature detection from raw data.\n",
    "\n",
    "- **Data Science (DS):**\n",
    "  An interdisciplinary field that uses scientific methods, processes, algorithms, and systems to extract knowledge and insights from data in various forms, both structured and unstructured.\n",
    "\n"
   ]
  },
  {
   "cell_type": "code",
   "execution_count": null,
   "id": "9b4d2816-6363-4042-9581-154d820b4a56",
   "metadata": {},
   "outputs": [],
   "source": [
    "### Q5: What are the main differences between supervised, unsupervised, and semi-supervised learning?\n",
    "- **Supervised Learning:** \n",
    "  Uses labeled data to train models. The goal is to predict outcomes based on input data.\n",
    "\n",
    "- **Unsupervised Learning:** \n",
    "  Uses unlabeled data to find hidden patterns or intrinsic structures in the input data.\n",
    "\n",
    "- **Semi-Supervised Learning:** \n",
    "  Uses a combination of labeled and unlabeled data. It falls between supervised and unsupervised learning. Typically, a small amount of labeled data and a large amount of unlabeled data are used.\n",
    "\n"
   ]
  },
  {
   "cell_type": "code",
   "execution_count": null,
   "id": "12ef04c9-27b3-415a-8b4f-aa3162d56587",
   "metadata": {},
   "outputs": [],
   "source": [
    "### Q6: What is train, test, and validation split? Explain the importance of each term.\n",
    "- **Train Set:** \n",
    "  The portion of the dataset used to train the model. The model learns from this data.\n",
    "\n",
    "- **Test Set:** \n",
    "  The portion of the dataset used to evaluate the performance of the model. It provides an unbiased evaluation of a final model fit on the training dataset.\n",
    "\n",
    "- **Validation Set:** \n",
    "  A subset of the dataset used to tune the parameters of the model. It helps in the selection of the best model and the adjustment of hyperparameters.\n",
    "\n"
   ]
  },
  {
   "cell_type": "code",
   "execution_count": null,
   "id": "80804ed9-96a7-43fc-89ab-046a117aa620",
   "metadata": {},
   "outputs": [],
   "source": [
    "### Q7: How can unsupervised learning be used in anomaly detection?\n",
    "Unsupervised learning can be used in anomaly detection by identifying patterns in data and flagging deviations from these patterns as anomalies. Clustering algorithms like K-Means or density-based methods can be used to group data points and detect outliers that do not fit into any cluster.\n",
    "\n"
   ]
  },
  {
   "cell_type": "code",
   "execution_count": null,
   "id": "2e568b17-4244-4507-81ef-41f57874011b",
   "metadata": {},
   "outputs": [],
   "source": [
    "### Q8: List down some commonly used supervised learning algorithms and unsupervised learning algorithms.\n",
    "- **Supervised Learning Algorithms:**\n",
    "  - Linear Regression\n",
    "  - Logistic Regression\n",
    "  - Decision Trees\n",
    "  - Support Vector Machines (SVM)\n",
    "  - Neural Networks\n",
    "  - K-Nearest Neighbors (KNN)\n",
    "  - Random Forest\n",
    "\n",
    "- **Unsupervised Learning Algorithms:**\n",
    "  - K-Means Clustering\n",
    "  - Hierarchical Clustering\n",
    "  - Principal Component Analysis (PCA)\n",
    "  - Independent Component Analysis (ICA)\n",
    "  - DBSCAN (Density-Based Spatial Clustering of Applications with Noise)\n",
    "  - Association Rule Learning (Apriori, Eclat)\n",
    "\n"
   ]
  }
 ],
 "metadata": {
  "kernelspec": {
   "display_name": "Python 3 (ipykernel)",
   "language": "python",
   "name": "python3"
  },
  "language_info": {
   "codemirror_mode": {
    "name": "ipython",
    "version": 3
   },
   "file_extension": ".py",
   "mimetype": "text/x-python",
   "name": "python",
   "nbconvert_exporter": "python",
   "pygments_lexer": "ipython3",
   "version": "3.10.8"
  }
 },
 "nbformat": 4,
 "nbformat_minor": 5
}
