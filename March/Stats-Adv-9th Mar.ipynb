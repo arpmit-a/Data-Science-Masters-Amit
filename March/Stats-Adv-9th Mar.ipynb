{
 "cells": [
  {
   "cell_type": "code",
   "execution_count": null,
   "id": "528263fb-e25b-4e6d-b046-4bfbcf6a2f0f",
   "metadata": {},
   "outputs": [],
   "source": [
    "#q1\n",
    "Probability Mass Function (PMF) and Probability Density Function (PDF) are mathematical functions used in probability theory and statistics to describe the likelihood of different outcomes in a random variable.\n",
    "\n",
    "Probability Mass Function (PMF): This is applicable to discrete random variables. The PMF gives the probability of a discrete random variable taking on a particular value. Mathematically, for a discrete random variable X, the PMF is denoted by P(X=x), where x is a specific value that X can take.\n",
    "\n",
    "Example: Consider a fair six-sided die. The PMF for the outcome of rolling the die is P(X=1) = 1/6, P(X=2) = 1/6, ..., P(X=6) = 1/6.\n",
    "\n",
    "Probability Density Function (PDF): This is applicable to continuous random variables. The PDF represents the likelihood of a continuous random variable falling within a particular range. It is denoted by f(x), and the probability of the variable falling in the interval [a, b] is given by the integral of the PDF over that interval.\n",
    "\n",
    "Example: The standard normal distribution has a PDF given by the bell-shaped curve formula f(x) = (1/(sqrt(2*pi)))*e^(-x^2/2), where x is a real number. Here, f(x) doesn't represent the probability at a specific point but rather the probability density over an interval."
   ]
  },
  {
   "cell_type": "code",
   "execution_count": null,
   "id": "e7ffcd9d-177f-46f6-932f-0b9da4822827",
   "metadata": {},
   "outputs": [],
   "source": [
    "#q2\n",
    "The Cumulative Density Function (CDF) describes the probability that a random variable takes on a value less than or equal to a given point. Mathematically, for a random variable X, the CDF is denoted by F(x) and is given by the integral (for continuous variables) or sum (for discrete variables) of the PDF or PMF up to the specified point.\n",
    "\n",
    "Example: For a standard normal distribution, the CDF is often denoted by Φ(x), where Φ(x) = P(X ≤ x). This function is useful in determining the probability that a random variable falls within a certain range.\n",
    "\n",
    "The CDF is used because it provides a convenient way to describe and analyze the distribution of random variables and to calculate probabilities for specific outcomes."
   ]
  },
  {
   "cell_type": "code",
   "execution_count": null,
   "id": "fd9430c1-3f02-491d-be2d-c971a7c9a13c",
   "metadata": {},
   "outputs": [],
   "source": [
    "#q3\n",
    "The normal distribution, also known as the Gaussian distribution or bell curve, is commonly used to model situations where the data cluster around a central value with symmetrical tails. Examples include:\n",
    "\n",
    "Height of a population: Human height often follows a normal distribution with most people clustering around the average height.\n",
    "\n",
    "Errors in measurements: In many scientific experiments, the errors in measurements are assumed to follow a normal distribution.\n",
    "\n",
    "IQ scores: Intelligence quotient (IQ) scores are often modeled using a normal distribution.\n",
    "\n",
    "Parameters of the normal distribution include the mean (μ) and standard deviation (σ), which determine the location and spread of the distribution, respectively."
   ]
  },
  {
   "cell_type": "code",
   "execution_count": null,
   "id": "8dda43eb-1962-4048-b088-3f14efce49ed",
   "metadata": {},
   "outputs": [],
   "source": [
    "#q4\n",
    "The normal distribution is important because of the Central Limit Theorem, which states that the distribution of the sum (or average) of a large number of independent, identically distributed random variables approaches a normal distribution, regardless of the original distribution. This theorem has widespread applications, making the normal distribution a fundamental concept in statistics.\n",
    "\n",
    "Real-life examples of normal distribution include:\n",
    "\n",
    "Exam scores: In a large population, exam scores often exhibit a normal distribution.\n",
    "\n",
    "Body temperature: Body temperatures in a healthy population tend to follow a normal distribution.\n",
    "\n",
    "Financial returns: Stock market returns are often modeled using a normal distribution."
   ]
  },
  {
   "cell_type": "code",
   "execution_count": null,
   "id": "434f6bad-328a-4d11-a2ba-470e6ef120db",
   "metadata": {},
   "outputs": [],
   "source": [
    "#q5\n",
    "The Bernoulli distribution is a discrete probability distribution representing a binary outcome (success/failure) with probability parameters p (success) and q = 1 - p (failure).\n",
    "\n",
    "Example: A single flip of a biased coin, where success is getting heads and failure is getting tails, can be modeled using a Bernoulli distribution. If P(heads) = p, then P(tails) = q = 1 - p.\n",
    "\n",
    "Difference between Bernoulli and Binomial Distribution:\n",
    "\n",
    "Bernoulli Distribution: Describes a single trial with two possible outcomes.\n",
    "\n",
    "Binomial Distribution: Describes the number of successes in a fixed number of independent Bernoulli trials. It is the sum of independent and identically distributed Bernoulli random variables.\n",
    "\n",
    "In summary, the Bernoulli distribution is for a single trial, while the binomial distribution is for the number of successes in a fixed number of trials."
   ]
  },
  {
   "cell_type": "code",
   "execution_count": null,
   "id": "f527baef-f672-4f93-9f73-f640a20eca97",
   "metadata": {},
   "outputs": [],
   "source": []
  },
  {
   "cell_type": "code",
   "execution_count": null,
   "id": "35612c7c-902e-4122-9f03-6e84bcf8031b",
   "metadata": {},
   "outputs": [],
   "source": []
  }
 ],
 "metadata": {
  "kernelspec": {
   "display_name": "Python 3 (ipykernel)",
   "language": "python",
   "name": "python3"
  },
  "language_info": {
   "codemirror_mode": {
    "name": "ipython",
    "version": 3
   },
   "file_extension": ".py",
   "mimetype": "text/x-python",
   "name": "python",
   "nbconvert_exporter": "python",
   "pygments_lexer": "ipython3",
   "version": "3.10.8"
  }
 },
 "nbformat": 4,
 "nbformat_minor": 5
}
