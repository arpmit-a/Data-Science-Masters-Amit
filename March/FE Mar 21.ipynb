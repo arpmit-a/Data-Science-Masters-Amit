{
 "cells": [
  {
   "cell_type": "code",
   "execution_count": 2,
   "id": "5cec4be1-e712-4c4d-84a6-8328dbadf062",
   "metadata": {},
   "outputs": [
    {
     "name": "stdout",
     "output_type": "stream",
     "text": [
      "     education car_brand  education_encoded  car_brand_encoded\n",
      "0  High School    Toyota                0.0                  3\n",
      "1     Bachelor      Ford                1.0                  1\n",
      "2       Master       BMW                2.0                  0\n",
      "3          PhD     Tesla                3.0                  2\n"
     ]
    }
   ],
   "source": [
    "\n",
    "### Q1: What is the Difference Between Ordinal Encoding and Label Encoding? Provide an Example of When You Might Choose One Over the Other.\n",
    "\n",
    "''' Ordinal Encoding:\n",
    "- Definition: Ordinal encoding assigns numerical values to categories based on their order. It is used when there is an inherent order in the categorical data.\n",
    "- Example Use Case: Encoding education levels (e.g., High School < Bachelor's < Master's < PhD).\n",
    "\n",
    "Label Encoding:\n",
    "- Definition: Label encoding assigns unique numerical values to categories without considering any order. It is used for nominal categorical data.\n",
    "- Example Use Case: Encoding car brands (e.g., Toyota, Ford, BMW). \n",
    "\n",
    "Example:\n",
    " '''\n",
    "from sklearn.preprocessing import LabelEncoder, OrdinalEncoder\n",
    "import pandas as pd\n",
    "\n",
    "# Sample data\n",
    "data = pd.DataFrame({\n",
    "    'education': ['High School', 'Bachelor', 'Master', 'PhD'],\n",
    "    'car_brand': ['Toyota', 'Ford', 'BMW', 'Tesla']\n",
    "})\n",
    "\n",
    "# Ordinal Encoding for education\n",
    "ordinal_encoder = OrdinalEncoder(categories=[['High School', 'Bachelor', 'Master', 'PhD']])\n",
    "data['education_encoded'] = ordinal_encoder.fit_transform(data[['education']])\n",
    "\n",
    "# Label Encoding for car brands\n",
    "label_encoder = LabelEncoder()\n",
    "data['car_brand_encoded'] = label_encoder.fit_transform(data['car_brand'])\n",
    "\n",
    "print(data)\n",
    "\n"
   ]
  },
  {
   "cell_type": "code",
   "execution_count": 3,
   "id": "e4449e99-7377-47af-9dd5-96fc157a8180",
   "metadata": {},
   "outputs": [
    {
     "name": "stdout",
     "output_type": "stream",
     "text": [
      "            city  price  city_encoded\n",
      "0       New York    300             2\n",
      "1    Los Angeles    200             1\n",
      "2  San Francisco    400             3\n",
      "3         Boston    150             0\n"
     ]
    }
   ],
   "source": [
    "### Q2: Explain How Target Guided Ordinal Encoding Works and Provide an Example of When You Might Use It in a Machine Learning Project.\n",
    "\n",
    "'''Target Guided Ordinal Encoding:\n",
    "- Definition: This encoding method orders the categories based on the target variable. It assigns numerical values to categories based on their relationship with the target variable (e.g., mean of the target for each category).\n",
    "- Example Use Case: Encoding categories of a feature based on their mean value of the target variable to capture the relationship between the feature and the target.\n",
    "\n",
    "Example:\n",
    "'''\n",
    "import pandas as pd\n",
    "\n",
    "# Sample data\n",
    "data = pd.DataFrame({\n",
    "    'city': ['New York', 'Los Angeles', 'San Francisco', 'Boston'],\n",
    "    'price': [300, 200, 400, 150]\n",
    "})\n",
    "\n",
    "# Calculate mean price for each city\n",
    "city_mean_price = data.groupby('city')['price'].mean().sort_values()\n",
    "\n",
    "# Create a mapping of city to mean price rank\n",
    "city_mapping = {k: i for i, k in enumerate(city_mean_price.index, 0)}\n",
    "\n",
    "# Apply Target Guided Ordinal Encoding\n",
    "data['city_encoded'] = data['city'].map(city_mapping)\n",
    "\n",
    "print(data)\n",
    "\n",
    "\n",
    "\n"
   ]
  },
  {
   "cell_type": "code",
   "execution_count": 4,
   "id": "194cc8ea-6d1e-4ab4-af98-ecf447f92546",
   "metadata": {},
   "outputs": [
    {
     "data": {
      "text/plain": [
       "'\\nCovariance:\\n- Definition: Covariance measures the direction of the linear relationship between two variables. It indicates whether the variables increase or decrease together.\\n- Importance: Covariance helps in understanding the relationship between variables and is used in portfolio theory, risk management, and other statistical analyses.\\n'"
      ]
     },
     "execution_count": 4,
     "metadata": {},
     "output_type": "execute_result"
    }
   ],
   "source": [
    "### Q3: Define Covariance and Explain Why It Is Important in Statistical Analysis. How Is Covariance Calculated?\n",
    "'''\n",
    "Covariance:\n",
    "- Definition: Covariance measures the direction of the linear relationship between two variables. It indicates whether the variables increase or decrease together.\n",
    "- Importance: Covariance helps in understanding the relationship between variables and is used in portfolio theory, risk management, and other statistical analyses.\n",
    "'''"
   ]
  },
  {
   "cell_type": "code",
   "execution_count": 5,
   "id": "f2c6ebb4-dabb-4e57-912f-d3b212c9c664",
   "metadata": {},
   "outputs": [
    {
     "name": "stdout",
     "output_type": "stream",
     "text": [
      "   color    size material  color_encoded  size_encoded  material_encoded\n",
      "0    red   small     wood              2             2                 2\n",
      "1  green  medium    metal              1             1                 0\n",
      "2   blue   large  plastic              0             0                 1\n"
     ]
    }
   ],
   "source": [
    "### Q4: For a Dataset with the Following Categorical Variables: Color (red, green, blue), Size (small, medium, large), and Material (wood, metal, plastic), Perform Label Encoding Using Python's scikit-learn Library. Show Your Code and Explain the Output.\n",
    "\n",
    "# Label Encoding Example:\n",
    "\n",
    "from sklearn.preprocessing import LabelEncoder\n",
    "import pandas as pd\n",
    "\n",
    "# Sample data\n",
    "data = pd.DataFrame({\n",
    "    'color': ['red', 'green', 'blue'],\n",
    "    'size': ['small', 'medium', 'large'],\n",
    "    'material': ['wood', 'metal', 'plastic']\n",
    "})\n",
    "\n",
    "# Apply Label Encoding\n",
    "label_encoder = LabelEncoder()\n",
    "data['color_encoded'] = label_encoder.fit_transform(data['color'])\n",
    "data['size_encoded'] = label_encoder.fit_transform(data['size'])\n",
    "data['material_encoded'] = label_encoder.fit_transform(data['material'])\n",
    "\n",
    "print(data)\n",
    "\n",
    "\n"
   ]
  },
  {
   "cell_type": "code",
   "execution_count": 7,
   "id": "76eba68e-6a66-43d6-8523-c750da3b8ab5",
   "metadata": {},
   "outputs": [
    {
     "name": "stdout",
     "output_type": "stream",
     "text": [
      "                       age       income  education_level\n",
      "age                  95.00     102500.0            10.25\n",
      "income           102500.00  130000000.0         13000.00\n",
      "education_level      10.25      13000.0             1.30\n"
     ]
    },
    {
     "data": {
      "text/plain": [
       "'\\nInterpretation:\\n- Positive covariance values indicate that the variables tend to increase together.\\n- Negative covariance values indicate that one variable tends to decrease when the other increases.\\n- Zero covariance indicates no linear relationship between the variables.\\n\\n'"
      ]
     },
     "execution_count": 7,
     "metadata": {},
     "output_type": "execute_result"
    }
   ],
   "source": [
    "### Q5: Calculate the Covariance Matrix for the Following Variables in a Dataset: Age, Income, and Education Level. Interpret the Results.\n",
    "\n",
    "# Example Data and Covariance Matrix Calculation:\n",
    "import pandas as pd\n",
    "import numpy as np\n",
    "\n",
    "# Sample data\n",
    "data = pd.DataFrame({\n",
    "    'age': [25, 35, 45, 20, 35],\n",
    "    'income': [50000, 60000, 70000, 40000, 50000],\n",
    "    'education_level': [2, 3, 4, 1, 2]  # Assume 1: High School, 2: Bachelor's, 3: Master's, 4: PhD\n",
    "})\n",
    "\n",
    "# Calculate covariance matrix\n",
    "cov_matrix = data.cov()\n",
    "\n",
    "print(cov_matrix)\n",
    "\n",
    "'''\n",
    "Interpretation:\n",
    "- Positive covariance values indicate that the variables tend to increase together.\n",
    "- Negative covariance values indicate that one variable tends to decrease when the other increases.\n",
    "- Zero covariance indicates no linear relationship between the variables.\n",
    "\n",
    "'''"
   ]
  },
  {
   "cell_type": "code",
   "execution_count": 1,
   "id": "17785f1a-b73c-440e-8404-d25e6f7602b3",
   "metadata": {},
   "outputs": [
    {
     "name": "stdout",
     "output_type": "stream",
     "text": [
      "   gender education_level  gender_encoded  education_level_encoded  \\\n",
      "0    Male     High School               1                      0.0   \n",
      "1  Female        Bachelor               0                      1.0   \n",
      "2  Female          Master               0                      2.0   \n",
      "3    Male             PhD               1                      3.0   \n",
      "\n",
      "   employment_status_Full-Time  employment_status_Part-Time  \\\n",
      "0                          0.0                          0.0   \n",
      "1                          0.0                          1.0   \n",
      "2                          1.0                          0.0   \n",
      "3                          0.0                          0.0   \n",
      "\n",
      "   employment_status_Unemployed  \n",
      "0                           1.0  \n",
      "1                           0.0  \n",
      "2                           0.0  \n",
      "3                           1.0  \n"
     ]
    },
    {
     "name": "stderr",
     "output_type": "stream",
     "text": [
      "/opt/conda/lib/python3.10/site-packages/sklearn/preprocessing/_encoders.py:808: FutureWarning: `sparse` was renamed to `sparse_output` in version 1.2 and will be removed in 1.4. `sparse_output` is ignored unless you leave `sparse` to its default value.\n",
      "  warnings.warn(\n"
     ]
    }
   ],
   "source": [
    "### Q6: You Are Working on a Machine Learning Project with a Dataset Containing Several Categorical Variables, Including \"Gender\" (Male/Female), \"Education Level\" (High School/Bachelor's/Master's/PhD), and \"Employment Status\" (Unemployed/Part-Time/Full-Time). Which Encoding Method Would You Use for Each Variable, and Why?\n",
    "\n",
    "''' Encoding Methods:\n",
    "- Gender: Binary Encoding (Male/Female).\n",
    "  - Reason: Only two categories, binary encoding is sufficient.\n",
    "- Education Level: Ordinal Encoding (High School < Bachelor's < Master's < PhD).\n",
    "  - Reason: There is an inherent order in education levels.\n",
    "- Employment Status: One-Hot Encoding (Unemployed, Part-Time, Full-Time).\n",
    "  - Reason: No ordinal relationship among categories.\n",
    "\n",
    "Example: '''\n",
    "\n",
    "import pandas as pd\n",
    "from sklearn.preprocessing import LabelEncoder, OrdinalEncoder, OneHotEncoder\n",
    "\n",
    "# Sample data\n",
    "data = pd.DataFrame({\n",
    "    'gender': ['Male', 'Female', 'Female', 'Male'],\n",
    "    'education_level': ['High School', 'Bachelor', 'Master', 'PhD'],\n",
    "    'employment_status': ['Unemployed', 'Part-Time', 'Full-Time', 'Unemployed']\n",
    "})\n",
    "\n",
    "# Binary Encoding for Gender\n",
    "label_encoder = LabelEncoder()\n",
    "data['gender_encoded'] = label_encoder.fit_transform(data['gender'])\n",
    "\n",
    "# Ordinal Encoding for Education Level\n",
    "ordinal_encoder = OrdinalEncoder(categories=[['High School', 'Bachelor', 'Master', 'PhD']])\n",
    "data['education_level_encoded'] = ordinal_encoder.fit_transform(data[['education_level']])\n",
    "\n",
    "# One-Hot Encoding for Employment Status\n",
    "one_hot_encoder = OneHotEncoder(sparse=False)\n",
    "employment_encoded = one_hot_encoder.fit_transform(data[['employment_status']])\n",
    "employment_encoded_df = pd.DataFrame(employment_encoded, columns=one_hot_encoder.get_feature_names_out(['employment_status']))\n",
    "\n",
    "# Concatenate one-hot encoded columns with original data\n",
    "data = pd.concat([data, employment_encoded_df], axis=1).drop('employment_status', axis=1)\n",
    "\n",
    "print(data)\n",
    "\n",
    "\n"
   ]
  },
  {
   "cell_type": "code",
   "execution_count": 8,
   "id": "4c082301-612f-4689-b103-836285dd28b0",
   "metadata": {},
   "outputs": [
    {
     "name": "stdout",
     "output_type": "stream",
     "text": [
      "             temperature  humidity\n",
      "temperature         62.5      62.5\n",
      "humidity            62.5      62.5\n",
      "                           temperature  humidity  weather_condition_encoded  \\\n",
      "temperature                      62.50     62.50                       0.00   \n",
      "humidity                         62.50     62.50                       0.00   \n",
      "weather_condition_encoded         0.00      0.00                       1.00   \n",
      "wind_direction_encoded            3.75      3.75                       0.25   \n",
      "\n",
      "                           wind_direction_encoded  \n",
      "temperature                                  3.75  \n",
      "humidity                                     3.75  \n",
      "weather_condition_encoded                    0.25  \n",
      "wind_direction_encoded                       1.30  \n"
     ]
    },
    {
     "name": "stderr",
     "output_type": "stream",
     "text": [
      "/tmp/ipykernel_77/3597074482.py:42: FutureWarning: The default value of numeric_only in DataFrame.cov is deprecated. In a future version, it will default to False. Select only valid columns or specify the value of numeric_only to silence this warning.\n",
      "  cov_matrix = data.cov()\n"
     ]
    },
    {
     "data": {
      "text/plain": [
       "'\\nInterpretation:\\n- Covariance values will show relationships between continuous variables and encoded categorical variables. Positive or negative values will indicate whether variables increase or decrease together.\\n'"
      ]
     },
     "execution_count": 8,
     "metadata": {},
     "output_type": "execute_result"
    }
   ],
   "source": [
    "### Q7: You Are Analyzing a Dataset with Two Continuous Variables, \"Temperature\" and \"Humidity\", and Two Categorical Variables, \"Weather Condition\" (Sunny/Cloudy/Rainy) and \"Wind Direction\" (North/South/East/West). Calculate the Covariance Between Each Pair of Variables and Interpret the Results.\n",
    "\n",
    "#Covariance Calculation for Continuous Variables:\n",
    "\n",
    "import pandas as pd\n",
    "import numpy as np\n",
    "\n",
    "# Sample data\n",
    "data = pd.DataFrame({\n",
    "    'temperature': [30, 25, 20, 35, 40],\n",
    "    'humidity': [70, 65, 60, 75, 80]\n",
    "})\n",
    "\n",
    "# Calculate covariance matrix for continuous variables\n",
    "cov_matrix = data.cov()\n",
    "\n",
    "print(cov_matrix)\n",
    "\n",
    "'''\n",
    "Interpretation:\n",
    "- The covariance matrix will show the relationship between temperature and humidity. A positive value indicates that as temperature increases, humidity also increases, and vice versa.\n",
    "'''\n",
    "\n",
    "#Encoding Categorical Variables and Calculating Covariance:\n",
    "\n",
    "from sklearn.preprocessing import LabelEncoder, OneHotEncoder\n",
    "\n",
    "# Sample data\n",
    "data = pd.DataFrame({\n",
    "    'temperature': [30, 25, 20, 35, 40],\n",
    "    'humidity': [70, 65, 60, 75, 80],\n",
    "    'weather_condition': ['Sunny', 'Cloudy', 'Rainy', 'Sunny', 'Cloudy'],\n",
    "    'wind_direction': ['North', 'South', 'East', 'West', 'North']\n",
    "})\n",
    "\n",
    "# Encode categorical variables\n",
    "label_encoder = LabelEncoder()\n",
    "data['weather_condition_encoded'] = label_encoder.fit_transform(data['weather_condition'])\n",
    "data['wind_direction_encoded'] = label_encoder.fit_transform(data['wind_direction'])\n",
    "\n",
    "# Calculate covariance matrix including encoded categorical variables\n",
    "cov_matrix = data.cov()\n",
    "\n",
    "print(cov_matrix)\n",
    "\n",
    "'''\n",
    "Interpretation:\n",
    "- Covariance values will show relationships between continuous variables and encoded categorical variables. Positive or negative values will indicate whether variables increase or decrease together.\n",
    "'''"
   ]
  },
  {
   "cell_type": "code",
   "execution_count": null,
   "id": "47a35300-623e-4b1c-adff-b34eb2c9f9f6",
   "metadata": {},
   "outputs": [],
   "source": []
  }
 ],
 "metadata": {
  "kernelspec": {
   "display_name": "Python 3 (ipykernel)",
   "language": "python",
   "name": "python3"
  },
  "language_info": {
   "codemirror_mode": {
    "name": "ipython",
    "version": 3
   },
   "file_extension": ".py",
   "mimetype": "text/x-python",
   "name": "python",
   "nbconvert_exporter": "python",
   "pygments_lexer": "ipython3",
   "version": "3.10.8"
  }
 },
 "nbformat": 4,
 "nbformat_minor": 5
}
