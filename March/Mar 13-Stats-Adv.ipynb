{
 "cells": [
  {
   "cell_type": "code",
   "execution_count": null,
   "id": "a9652b8d-f2a4-46b0-a628-65e206787406",
   "metadata": {},
   "outputs": [],
   "source": [
    "Q1. Assumptions for ANOVA and Violations:\n",
    "\n",
    "Homogeneity of Variances: Assumes that the variances of the populations being compared are approximately equal.\n",
    "Violation Example: Unequal variances could occur if one group has much larger variability than others.\n",
    "Normality: Assumes that the populations being compared are normally distributed.\n",
    "Violation Example: If the data are strongly skewed or have outliers, normality assumptions may be violated."
   ]
  },
  {
   "cell_type": "code",
   "execution_count": null,
   "id": "a8ec6d40-7971-46c4-8fa5-cad4d982bb72",
   "metadata": {},
   "outputs": [],
   "source": [
    "Q2. Types of ANOVA and Situations:\n",
    "\n",
    "One-Way ANOVA: Used when comparing means across more than two independent groups.\n",
    "Two-Way ANOVA: Used when there are two independent variables (factors) and their interaction effect on the dependent variable needs to be examined.\n",
    "Repeated Measures ANOVA: Used when measurements are taken on the same set of subjects at multiple time points or under different conditions.\n"
   ]
  },
  {
   "cell_type": "code",
   "execution_count": null,
   "id": "8890011d-c7dd-4a88-80bc-029b614ede0b",
   "metadata": {},
   "outputs": [],
   "source": [
    "Q3. Partitioning of Variance in ANOVA:\n",
    "\n",
    "Total Variance (SST): Total variability in the dependent variable.\n",
    "Explained Variance (SSE): Variability attributed to the differences between group means.\n",
    "Residual Variance (SSR): Unexplained variability within groups.\n",
    "Understanding this partition helps assess the proportion of variance explained by the model."
   ]
  },
  {
   "cell_type": "code",
   "execution_count": null,
   "id": "8c729603-4b8f-425a-9136-84978f62fe76",
   "metadata": {},
   "outputs": [],
   "source": [
    "Q4. Calculating SST, SSE, and SSR in One-Way ANOVA using Python:\n",
    "\n",
    "SST: sst = np.sum((data - np.mean(data))**2)\n",
    "SSE: sse = np.sum((group_mean - np.mean(data))**2)\n",
    "SSR: ssr = np.sum((data - group_mean)**2)"
   ]
  },
  {
   "cell_type": "code",
   "execution_count": null,
   "id": "766b6c0a-7ab2-4e62-bdee-428155edf0b1",
   "metadata": {},
   "outputs": [],
   "source": [
    "Q5. Calculating Main and Interaction Effects in Two-Way ANOVA using Python:\n",
    "\n",
    "Main Effects: Differences in means for each factor independently.\n",
    "Interaction Effects: Combined effect of two factors. Use statistical libraries in Python, e.g., Statsmodels or Scipy."
   ]
  },
  {
   "cell_type": "code",
   "execution_count": null,
   "id": "eb45d23d-5445-4c1c-90e0-349249d52d7b",
   "metadata": {},
   "outputs": [],
   "source": [
    "Q6. Interpreting One-Way ANOVA Results:\n",
    "\n",
    "F-statistic of 5.23 with p-value of 0.02 suggests there are significant differences between groups.\n",
    "Groups differ, but post-hoc tests are needed to identify which pairs are significantly different."
   ]
  },
  {
   "cell_type": "code",
   "execution_count": null,
   "id": "2d6c4a8d-64e0-41a5-8cb7-56de19a3f0ac",
   "metadata": {},
   "outputs": [],
   "source": [
    "Q7. Handling Missing Data in Repeated Measures ANOVA:\n",
    "\n",
    "Use techniques like imputation or exclusion based on the nature of missing data.\n",
    "Consequences: Bias, reduced power, or incorrect conclusions."
   ]
  },
  {
   "cell_type": "code",
   "execution_count": null,
   "id": "c4e95b29-eb5c-4571-b3c4-f75966ef42f2",
   "metadata": {},
   "outputs": [],
   "source": [
    "Q8. Common Post-hoc Tests for ANOVA:\n",
    "\n",
    "Tukey's HSD: Used when comparing all groups.\n",
    "Bonferroni Correction: Controls family-wise error rate.\n",
    "Sidak Correction: Similar to Bonferroni but more powerful.\n",
    "Dunnett's Test: Used when comparing against a control group.\n",
    "Example: Post-hoc tests might be necessary when ANOVA indicates significant differences to identify specific group differences."
   ]
  },
  {
   "cell_type": "code",
   "execution_count": null,
   "id": "1f19971e-5f61-46e1-954a-c6f529188a40",
   "metadata": {},
   "outputs": [],
   "source": [
    "Q9. One-Way ANOVA in Python:\n",
    "\n",
    "import scipy.stats as stats\n",
    "\n",
    "data_a = [...]  # Weight loss data for Diet A\n",
    "data_b = [...]  # Weight loss data for Diet B\n",
    "data_c = [...]  # Weight loss data for Diet C\n",
    "\n",
    "f_statistic, p_value = stats.f_oneway(data_a, data_b, data_c)\n"
   ]
  },
  {
   "cell_type": "code",
   "execution_count": null,
   "id": "de1d6b48-7e8a-4345-af8c-c0a806620188",
   "metadata": {},
   "outputs": [],
   "source": [
    "Q10. Two-Way ANOVA for Software Programs and Employee Experience:\n",
    "\n",
    "import pandas as pd\n",
    "import statsmodels.api as sm\n",
    "from statsmodels.formula.api import ols\n",
    "\n",
    "# Assuming you have a DataFrame named 'df' with columns 'Program', 'Experience', and 'TaskTime'\n",
    "model = ols('TaskTime ~ Program * Experience', data=df).fit()\n",
    "anova_table = sm.stats.anova_lm(model, typ=2)\n",
    "print(anova_table)\n",
    "Interpretation: Check the p-values in the ANOVA table. \n",
    "If any are below the significance level (e.g., 0.05), there is evidence of a significant effect.\n",
    "Look at main effects for Program and Experience, as well as their interaction effect."
   ]
  },
  {
   "cell_type": "code",
   "execution_count": null,
   "id": "7552b0a9-03ff-4a62-8783-e54a5b7297cb",
   "metadata": {},
   "outputs": [],
   "source": [
    "Q11. Two-Sample t-test for Teaching Methods:\n",
    "\n",
    "from scipy.stats import ttest_ind\n",
    "from statsmodels.stats.multicomp import pairwise_tukeyhsd\n",
    "\n",
    "# Assuming you have arrays 'control_group' and 'experimental_group'\n",
    "t_statistic, p_value = ttest_ind(control_group, experimental_group)\n",
    "\n",
    "# Post-hoc test\n",
    "posthoc = pairwise_tukeyhsd(df['TestScores'], df['Group'])\n",
    "Interpretation: If p-value is below the significance level, there's evidence of a significant difference. Post-hoc test helps identify which groups differ significantly."
   ]
  },
  {
   "cell_type": "code",
   "execution_count": null,
   "id": "9131bf71-9421-4034-b84b-21cccbd82448",
   "metadata": {},
   "outputs": [],
   "source": [
    "Q12. Repeated Measures ANOVA for Daily Sales:\n",
    "\n",
    "from statsmodels.stats.anova import AnovaRM\n",
    "from statsmodels.stats.multicomp import pairwise_tukeyhsd\n",
    "\n",
    "# Assuming you have a DataFrame named 'df' with columns 'Day', 'Store', and 'Sales'\n",
    "anova_rm = AnovaRM(df, 'Sales', 'Store', within=['Day']).fit()\n",
    "print(anova_rm.summary())\n",
    "\n",
    "# Post-hoc test\n",
    "posthoc = pairwise_tukeyhsd(df['Sales'], df['Store'])\n"
   ]
  },
  {
   "cell_type": "code",
   "execution_count": null,
   "id": "d2e8d4a8-2933-4a4e-945d-68726f5e5a50",
   "metadata": {},
   "outputs": [],
   "source": [
    "Interpretation: Check the p-value in the ANOVA table. If it's below the significance level, there's evidence of a significant difference in sales. The post-hoc test helps identify which stores differ significantly.\n",
    "\n",
    "Note: Replace column names and DataFrame names with your actual data. The post-hoc test assumes equal sample sizes for each group. If sample sizes are unequal, consider using a different method, such as the Games-Howell test."
   ]
  }
 ],
 "metadata": {
  "kernelspec": {
   "display_name": "Python 3 (ipykernel)",
   "language": "python",
   "name": "python3"
  },
  "language_info": {
   "codemirror_mode": {
    "name": "ipython",
    "version": 3
   },
   "file_extension": ".py",
   "mimetype": "text/x-python",
   "name": "python",
   "nbconvert_exporter": "python",
   "pygments_lexer": "ipython3",
   "version": "3.10.8"
  }
 },
 "nbformat": 4,
 "nbformat_minor": 5
}
