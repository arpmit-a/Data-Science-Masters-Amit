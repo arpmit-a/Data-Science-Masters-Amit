{
 "cells": [
  {
   "cell_type": "code",
   "execution_count": null,
   "id": "a784abfd-1fb8-4e5c-8367-8d5b92c56282",
   "metadata": {},
   "outputs": [],
   "source": [
    "Q1. What is the Probability density function?\n",
    "\n",
    "The probability density function (PDF) of a random variable is a function that describes the relative likelihood for that variable to take on a certain value. \n",
    "The PDF of a continuous random variable is always non-negative and integrates to 1 over the entire range of possible values."
   ]
  },
  {
   "cell_type": "code",
   "execution_count": null,
   "id": "cb4353a5-fd66-4b9b-bb75-c37e9f8f5a1e",
   "metadata": {},
   "outputs": [],
   "source": [
    "Q2. What are the types of Probability distribution?\n",
    "\n",
    "There are many different types of probability distributions, each with its own unique properties. Some of the most common types of probability distributions include:\n",
    "\n",
    "Normal distribution\n",
    "Binomial distribution\n",
    "Poisson distribution\n",
    "Exponential distribution\n",
    "Uniform distribution\n",
    "Chi-squared distribution\n",
    "t-distribution\n",
    "F-distribution"
   ]
  },
  {
   "cell_type": "code",
   "execution_count": 1,
   "id": "8b9b473d-c6ae-4731-bae3-065de6ee125b",
   "metadata": {},
   "outputs": [
    {
     "name": "stdout",
     "output_type": "stream",
     "text": [
      "0.02129653370149015\n"
     ]
    }
   ],
   "source": [
    "# Q3. Write a Python function to calculate the probability density function of a normal distribution with given mean and standard deviation at a given point.\n",
    "\n",
    "import numpy as np\n",
    "\n",
    "def normal_pdf(x, mean, std):\n",
    "  \"\"\"Calculates the probability density function of a normal distribution.\n",
    "\n",
    "  Args:\n",
    "    x: The value at which to calculate the PDF.\n",
    "    mean: The mean of the normal distribution.\n",
    "    std: The standard deviation of the normal distribution.\n",
    "\n",
    "  Returns:\n",
    "    The probability density function of the normal distribution at the given point.\n",
    "  \"\"\"\n",
    "\n",
    "  z = (x - mean) / std\n",
    "  pdf = np.exp(-z**2 / 2) / (np.sqrt(2 * np.pi) * std)\n",
    "  return pdf\n",
    "\n",
    "# Example usage:\n",
    "\n",
    "mean = 100\n",
    "std = 15\n",
    "x = 110\n",
    "\n",
    "pdf = normal_pdf(x, mean, std)\n",
    "\n",
    "print(pdf)\n"
   ]
  },
  {
   "cell_type": "code",
   "execution_count": null,
   "id": "ed0c83b7-fe1f-43d0-9c26-246d708d7e2e",
   "metadata": {},
   "outputs": [],
   "source": [
    "Q4. What are the properties of Binomial distribution? Give two examples of events where binomial distribution can be applied.\n",
    "\n",
    "The binomial distribution has the following properties:\n",
    "\n",
    "It is a discrete distribution, meaning that the random variable can only take on a finite or countable number of values.\n",
    "It is parameterized by two values: the number of trials (n) and the probability of success (p).\n",
    "The probability of k successes in n trials is given by the binomial probability mass function:\n",
    "P(k) = nCk * pk * (1-p)^(n-k)\n",
    "where nCk is the number of ways to choose k successes out of n trials.\n",
    "\n",
    "Two examples of events where the binomial distribution can be applied are:\n",
    "\n",
    "Flipping a coin n times and counting the number of heads.\n",
    "Rolling a die n times and counting the number of times a 6 is rolled."
   ]
  },
  {
   "cell_type": "code",
   "execution_count": 2,
   "id": "ec25619e-a78b-4454-b621-bd33287dd217",
   "metadata": {},
   "outputs": [
    {
     "data": {
      "image/png": "[encoded data removed]",
      "text/plain": [
       "<Figure size 640x480 with 1 Axes>"
      ]
     },
     "metadata": {},
     "output_type": "display_data"
    }
   ],
   "source": [
    "# Q5. Generate a random sample of size 1000 from a binomial distribution with probability of success 0.4 and plot a histogram of the results using matplotlib.\n",
    "import numpy as np\n",
    "import matplotlib.pyplot as plt\n",
    "\n",
    "# Generate a random sample of size 1000 from a binomial distribution with probability of success 0.4\n",
    "sample = np.random.binomial(n=1000, p=0.4)\n",
    "\n",
    "# Plot a histogram of the sample\n",
    "plt.hist(sample)\n",
    "plt.xlabel(\"Number of successes\")\n",
    "plt.ylabel(\"Frequency\")\n",
    "plt.title(\"Histogram of a binomial random sample\")\n",
    "plt.show()\n"
   ]
  },
  {
   "cell_type": "code",
   "execution_count": 4,
   "id": "a2610890-5b0a-40ca-8568-7fbc0367e3b2",
   "metadata": {},
   "outputs": [
    {
     "name": "stdout",
     "output_type": "stream",
     "text": [
      "0.2650259152973616\n"
     ]
    }
   ],
   "source": [
    "#Q6\n",
    "import numpy as np\n",
    "import scipy.stats as stats\n",
    "\n",
    "def poisson_cdf(k, mean):\n",
    "  \"\"\"Calculates the cumulative distribution function of a Poisson distribution with given mean at a given point.\n",
    "\n",
    "  Args:\n",
    "    k: The point at which to calculate the CDF.\n",
    "    mean: The mean of the Poisson distribution.\n",
    "\n",
    "  Returns:\n",
    "    The CDF of the Poisson distribution at the given point.\n",
    "  \"\"\"\n",
    "\n",
    "  return stats.poisson.cdf(k, mean)\n",
    "\n",
    "# Example usage:\n",
    "\n",
    "mean = 5\n",
    "k = 3\n",
    "\n",
    "cdf = poisson_cdf(k, mean)\n",
    "\n",
    "print(cdf)\n"
   ]
  },
  {
   "cell_type": "code",
   "execution_count": null,
   "id": "1a5d7a6e-7769-4506-aa6e-3e63d60cb081",
   "metadata": {},
   "outputs": [],
   "source": [
    "#Q7\n",
    "The binomial distribution and the Poisson distribution are both discrete probability distributions, but they have different underlying assumptions.\n",
    "\n",
    "The binomial distribution models the probability of a certain number of successes in a fixed number of trials, where each trial has two possible outcomes (success or failure) and the probability of success is constant for each trial.\n",
    "\n",
    "The Poisson distribution models the probability of a certain number of events occurring in a fixed interval of time or space, where the events occur independently and at random. The rate of occurrence of events is assumed to be constant throughout the interval."
   ]
  },
  {
   "cell_type": "code",
   "execution_count": 5,
   "id": "5568bade-889d-4c92-800f-21eaf6a7fabe",
   "metadata": {},
   "outputs": [
    {
     "name": "stdout",
     "output_type": "stream",
     "text": [
      "4.979\n",
      "4.904558999999999\n"
     ]
    }
   ],
   "source": [
    "#Q8\n",
    "import numpy as np\n",
    "\n",
    "def poisson_sample(mean, size):\n",
    "  \"\"\"Generates a random sample of size `size` from a Poisson distribution with mean `mean`.\n",
    "\n",
    "  Args:\n",
    "    mean: The mean of the Poisson distribution.\n",
    "    size: The size of the sample to generate.\n",
    "\n",
    "  Returns:\n",
    "    A NumPy array containing a random sample of size `size` from the Poisson distribution.\n",
    "  \"\"\"\n",
    "\n",
    "  return np.random.poisson(mean, size)\n",
    "\n",
    "# Generate a random sample of size 1000 from a Poisson distribution with mean 5.\n",
    "sample = poisson_sample(5, 1000)\n",
    "\n",
    "# Calculate the sample mean and variance.\n",
    "sample_mean = sample.mean()\n",
    "sample_variance = sample.var()\n",
    "\n",
    "print(sample_mean)\n",
    "print(sample_variance)\n"
   ]
  },
  {
   "cell_type": "code",
   "execution_count": null,
   "id": "287724f1-7358-4a16-b62e-11fa4d381e22",
   "metadata": {},
   "outputs": [],
   "source": [
    "#Q9\n",
    "In the binomial distribution, the mean and variance are related by the following equation:\n",
    "\n",
    "Variance = n * p * (1 - p)\n",
    "where:\n",
    "\n",
    "n is the number of trials\n",
    "p is the probability of success on each trial\n",
    "In the Poisson distribution, the mean and variance are equal.\n",
    "\n",
    "Variance = Mean = λ\n",
    "where:\n",
    "\n",
    "λ is the rate of occurrence of events"
   ]
  },
  {
   "cell_type": "code",
   "execution_count": null,
   "id": "de40e22e-2049-49a0-bb40-7d42bba3c544",
   "metadata": {},
   "outputs": [],
   "source": [
    "#Q10\n",
    "The least frequent data in a normal distribution appears at the tails of the distribution, which are the regions that are furthest away from the mean. This is because the normal distribution is bell-shaped, with the highest frequency of data occurring at the mean and the frequency of data decreasing as we move away from the mean."
   ]
  },
  {
   "cell_type": "code",
   "execution_count": null,
   "id": "acd6f223-fab0-416b-b7a5-6503ce3cb1f8",
   "metadata": {},
   "outputs": [],
   "source": []
  }
 ],
 "metadata": {
  "kernelspec": {
   "display_name": "Python 3 (ipykernel)",
   "language": "python",
   "name": "python3"
  },
  "language_info": {
   "codemirror_mode": {
    "name": "ipython",
    "version": 3
   },
   "file_extension": ".py",
   "mimetype": "text/x-python",
   "name": "python",
   "nbconvert_exporter": "python",
   "pygments_lexer": "ipython3",
   "version": "3.10.8"
  }
 },
 "nbformat": 4,
 "nbformat_minor": 5
}
