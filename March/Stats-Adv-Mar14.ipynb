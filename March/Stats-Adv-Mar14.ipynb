{
 "cells": [
  {
   "cell_type": "code",
   "execution_count": 1,
   "id": "a2431296-3e32-4c8c-be8e-2467904df126",
   "metadata": {},
   "outputs": [],
   "source": [
    "#Q1. Variance Ratio Test Function\n",
    "import numpy as np\n",
    "from scipy.stats import f\n",
    "\n",
    "def variance_ratio_test(arr1, arr2):\n",
    "    var1 = np.var(arr1, ddof=1)\n",
    "    var2 = np.var(arr2, ddof=1)\n",
    "    \n",
    "    if var1 >= var2:\n",
    "        f_value = var1 / var2\n",
    "        df1 = len(arr1) - 1\n",
    "        df2 = len(arr2) - 1\n",
    "    else:\n",
    "        f_value = var2 / var1\n",
    "        df1 = len(arr2) - 1\n",
    "        df2 = len(arr1) - 1\n",
    "    \n",
    "    p_value = 2 * (1 - f.cdf(f_value, df1, df2))\n",
    "    \n",
    "    return f_value, p_value\n"
   ]
  },
  {
   "cell_type": "code",
   "execution_count": 2,
   "id": "08bb91d2-bf74-4f9a-8d35-f2e42e7dd76c",
   "metadata": {},
   "outputs": [],
   "source": [
    "#Q2. Critical F-value Function\n",
    "from scipy.stats import f\n",
    "\n",
    "def critical_f_value(alpha, df1, df2):\n",
    "    return f.ppf(1 - alpha/2, df1, df2)\n"
   ]
  },
  {
   "cell_type": "code",
   "execution_count": 3,
   "id": "eaf7a030-fdf9-4a54-a9cb-0b1aea8ead86",
   "metadata": {},
   "outputs": [],
   "source": [
    "#Q3. F-Test for Random Samples\n",
    "import numpy as np\n",
    "from scipy.stats import f\n",
    "\n",
    "def f_test_random_samples(sample1, sample2):\n",
    "    var1 = np.var(sample1, ddof=1)\n",
    "    var2 = np.var(sample2, ddof=1)\n",
    "    \n",
    "    if var1 >= var2:\n",
    "        f_value = var1 / var2\n",
    "        df1 = len(sample1) - 1\n",
    "        df2 = len(sample2) - 1\n",
    "    else:\n",
    "        f_value = var2 / var1\n",
    "        df1 = len(sample2) - 1\n",
    "        df2 = len(sample1) - 1\n",
    "    \n",
    "    p_value = 2 * (1 - f.cdf(f_value, df1, df2))\n",
    "    \n",
    "    return f_value, df1, df2, p_value\n"
   ]
  },
  {
   "cell_type": "code",
   "execution_count": 4,
   "id": "7d111a6a-ee27-479a-9eec-61be521412e4",
   "metadata": {},
   "outputs": [
    {
     "name": "stdout",
     "output_type": "stream",
     "text": [
      "F-value: 3.7117\n",
      "Critical F-value: 3.4737\n",
      "P-value: 0.0396\n",
      "Reject the null hypothesis. Variances are significantly different.\n"
     ]
    }
   ],
   "source": [
    "#Q4. Conduct an F-test to determine if the variances are significantly different.\n",
    "sample1 = np.random.normal(0, np.sqrt(10), 12)\n",
    "sample2 = np.random.normal(0, np.sqrt(15), 12)\n",
    "\n",
    "f_value, df1, df2, p_value = f_test_random_samples(sample1, sample2)\n",
    "\n",
    "alpha = 0.05\n",
    "critical_f = critical_f_value(alpha, df1, df2)\n",
    "\n",
    "print(f\"F-value: {f_value:.4f}\")\n",
    "print(f\"Critical F-value: {critical_f:.4f}\")\n",
    "print(f\"P-value: {p_value:.4f}\")\n",
    "\n",
    "# Check if null hypothesis is rejected\n",
    "if f_value > critical_f:\n",
    "    print(\"Reject the null hypothesis. Variances are significantly different.\")\n",
    "else:\n",
    "    print(\"Fail to reject the null hypothesis. Variances are not significantly different.\")\n"
   ]
  },
  {
   "cell_type": "code",
   "execution_count": 5,
   "id": "c1b4e72e-7c6e-4b52-8cab-fe6f253acc7d",
   "metadata": {},
   "outputs": [
    {
     "name": "stdout",
     "output_type": "stream",
     "text": [
      "F-value: 1.3225\n",
      "Critical F-value: 2.9667\n",
      "P-value: 0.4987\n",
      "Fail to reject the null hypothesis. The claim is justified.\n"
     ]
    }
   ],
   "source": [
    "#Q5. Conduct an F-test to determine if the claim is justified.\n",
    "population_variance = 0.005\n",
    "sample_variance = 0.006\n",
    "sample_size = 25\n",
    "\n",
    "f_value, df1, df2, p_value = f_test_random_samples(np.random.normal(0, np.sqrt(population_variance), sample_size), \n",
    "                                                    np.random.normal(0, np.sqrt(sample_variance), sample_size))\n",
    "\n",
    "alpha = 0.01\n",
    "critical_f = critical_f_value(alpha, df1, df2)\n",
    "\n",
    "print(f\"F-value: {f_value:.4f}\")\n",
    "print(f\"Critical F-value: {critical_f:.4f}\")\n",
    "print(f\"P-value: {p_value:.4f}\")\n",
    "\n",
    "# Check if null hypothesis is rejected\n",
    "if f_value > critical_f:\n",
    "    print(\"Reject the null hypothesis. The claim is not justified.\")\n",
    "else:\n",
    "    print(\"Fail to reject the null hypothesis. The claim is justified.\")\n"
   ]
  },
  {
   "cell_type": "code",
   "execution_count": 6,
   "id": "807ebab3-a241-4b5f-9c57-705ad56cdacb",
   "metadata": {},
   "outputs": [
    {
     "name": "stdout",
     "output_type": "stream",
     "text": [
      "Mean: 1.6667\n",
      "Variance: 11.1111\n"
     ]
    }
   ],
   "source": [
    "#Q6. Calculate the mean and variance of an F-distribution.\n",
    "from scipy.stats import f\n",
    "\n",
    "def mean_variance_f_distribution(df1, df2):\n",
    "    mean = df2 / (df2 - 2)\n",
    "    variance = (2 * (df2**2) * (df1 + df2 - 2)) / (df1 * (df2 - 2)**2 * (df2 - 4))\n",
    "    return mean, variance\n",
    "\n",
    "# Example usage:\n",
    "df1 = 3\n",
    "df2 = 5\n",
    "mean, variance = mean_variance_f_distribution(df1, df2)\n",
    "print(f\"Mean: {mean:.4f}\")\n",
    "print(f\"Variance: {variance:.4f}\")\n"
   ]
  },
  {
   "cell_type": "code",
   "execution_count": 7,
   "id": "b6708983-a09b-4964-8a90-380a8f2ba8b7",
   "metadata": {},
   "outputs": [
    {
     "name": "stdout",
     "output_type": "stream",
     "text": [
      "F-value: 1.2500\n",
      "P-value: 0.6832\n",
      "Fail to reject the null hypothesis. Variances are not significantly different.\n"
     ]
    }
   ],
   "source": [
    "#Q7. Conduct an F-test to determine if the variances are significantly different.\n",
    "from scipy.stats import f\n",
    "\n",
    "# Given sample variances and sample sizes\n",
    "variance1 = 25\n",
    "variance2 = 20\n",
    "sample_size1 = 10\n",
    "sample_size2 = 15\n",
    "\n",
    "# F-test\n",
    "f_value = variance1 / variance2\n",
    "df1 = sample_size1 - 1\n",
    "df2 = sample_size2 - 1\n",
    "p_value = 2 * (1 - f.cdf(f_value, df1, df2))\n",
    "\n",
    "alpha = 0.10\n",
    "\n",
    "# Check if null hypothesis is rejected\n",
    "if p_value < alpha:\n",
    "    print(f\"F-value: {f_value:.4f}\")\n",
    "    print(f\"P-value: {p_value:.4f}\")\n",
    "    print(\"Reject the null hypothesis. Variances are significantly different.\")\n",
    "else:\n",
    "    print(f\"F-value: {f_value:.4f}\")\n",
    "    print(f\"P-value: {p_value:.4f}\")\n",
    "    print(\"Fail to reject the null hypothesis. Variances are not significantly different.\")\n"
   ]
  },
  {
   "cell_type": "code",
   "execution_count": 8,
   "id": "9d6b52b3-e836-44ad-bebf-99d4ed30b6df",
   "metadata": {},
   "outputs": [
    {
     "name": "stdout",
     "output_type": "stream",
     "text": [
      "F-value: 1.4552\n",
      "P-value: 0.6975\n",
      "Fail to reject the null hypothesis. Variances are not significantly different.\n"
     ]
    }
   ],
   "source": [
    "#Q8. Conduct an F-test to determine if the variances are significantly different.\n",
    "from scipy.stats import f\n",
    "\n",
    "# Waiting times data\n",
    "restaurant_A = [24, 25, 28, 23, 22, 20, 27]\n",
    "restaurant_B = [31, 33, 35, 30, 32, 36]\n",
    "\n",
    "# F-test\n",
    "f_value, df1, df2, p_value = f_test_random_samples(restaurant_A, restaurant_B)\n",
    "\n",
    "alpha = 0.05\n",
    "\n",
    "# Check if null hypothesis is rejected\n",
    "if p_value < alpha:\n",
    "    print(f\"F-value: {f_value:.4f}\")\n",
    "    print(f\"P-value: {p_value:.4f}\")\n",
    "    print(\"Reject the null hypothesis. Variances are significantly different.\")\n",
    "else:\n",
    "    print(f\"F-value: {f_value:.4f}\")\n",
    "    print(f\"P-value: {p_value:.4f}\")\n",
    "    print(\"Fail to reject the null hypothesis. Variances are not significantly different.\")\n"
   ]
  },
  {
   "cell_type": "code",
   "execution_count": null,
   "id": "1fbd89be-9671-4936-8691-92d491efac3b",
   "metadata": {},
   "outputs": [],
   "source": []
  }
 ],
 "metadata": {
  "kernelspec": {
   "display_name": "Python 3 (ipykernel)",
   "language": "python",
   "name": "python3"
  },
  "language_info": {
   "codemirror_mode": {
    "name": "ipython",
    "version": 3
   },
   "file_extension": ".py",
   "mimetype": "text/x-python",
   "name": "python",
   "nbconvert_exporter": "python",
   "pygments_lexer": "ipython3",
   "version": "3.10.8"
  }
 },
 "nbformat": 4,
 "nbformat_minor": 5
}
