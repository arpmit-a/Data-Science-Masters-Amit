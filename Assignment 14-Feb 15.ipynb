{
 "cells": [
  {
   "cell_type": "code",
   "execution_count": 3,
   "id": "73facb4d-590a-4ac2-a6e0-31d496c6f74a",
   "metadata": {},
   "outputs": [],
   "source": [
    "#Q1\n",
    "'''Multiprocessing is a module in Python that enables the creation of parallel or concurrent code by running multiple processes in a single thread that can execute different parts of a program at the same time.'''\n",
    "The four main reasons to use multiprocessing are:\n",
    "    1.Improved performance\n",
    "    2.Simplified parallelism\n",
    "    3.Fault tolerance\n",
    "    4.Scalability"
   ]
  },
  {
   "cell_type": "code",
   "execution_count": null,
   "id": "4e1b872c-07fd-404b-b6ab-750d3794c806",
   "metadata": {},
   "outputs": [],
   "source": [
    "#Q2\n",
    "Multiprocessing and multithreading are two approaches to achieving concurrent execution of multiple tasks in a computer system.\n",
    "\n",
    "Here are the key differences between them:\n",
    "\n",
    "1.Execution: In multiprocessing, multiple processes run simultaneously on different processors or cores of a computer, whereas in multithreading, multiple threads run simultaneously within the same process.\n",
    "\n",
    "2.Memory: Each process has its own memory space, which is separate from other processes. In contrast, threads share the same memory space as the process they belong to.\n",
    "\n",
    "3.Communication: Processes communicate with each other using inter-process communication (IPC) mechanisms like pipes, sockets, and message queues. Threads communicate with each other using shared memory or message passing.\n",
    "\n",
    "4.Overhead: Creating a new process involves more overhead than creating a new thread, because the new process has its own memory space and must be initialized with a new program counter, stack, and other resources. Context switching between processes is also slower than switching between threads.\n",
    "\n",
    "5.Scalability: Multiprocessing can scale better than multithreading, because each process can be run on a different processor or core, allowing more tasks to be executed in parallel. However, this also depends on the nature of the tasks being performed.\n",
    "\n",
    "6.Fault isolation: Because each process has its own memory space, a fault in one process is less likely to affect other processes than a fault in one thread is likely to affect other threads in the same process."
   ]
  },
  {
   "cell_type": "code",
   "execution_count": 2,
   "id": "33ee584a-dba0-4309-a894-9c69c2d2e652",
   "metadata": {},
   "outputs": [
    {
     "name": "stdout",
     "output_type": "stream",
     "text": [
      "Worker 0 starting\n",
      "\n",
      "Worker 0 finishing\n",
      "Worker 1 starting\n",
      "\n",
      "\n",
      "Worker 1 finishing\n",
      "\n",
      "Worker 2 starting\n",
      "\n",
      "Worker 2 finishing\n",
      "Worker 3 starting\n",
      "\n",
      "\n",
      "Worker 3 finishing\n",
      "Worker 4 starting\n",
      "\n",
      "\n",
      "Worker 4 finishing\n",
      "\n"
     ]
    }
   ],
   "source": [
    "#Q3\n",
    "import multiprocessing\n",
    "\n",
    "def worker(num):\n",
    "    \"\"\"Function to be run in a separate process.\"\"\"\n",
    "    print(f\"Worker {num} starting\\n\")\n",
    "    # Do some work here...\n",
    "    print(f\"Worker {num} finishing\\n\")\n",
    "\n",
    "if __name__ == '__main__':\n",
    "    # Create a new process for each worker\n",
    "    processes = []\n",
    "    for i in range(5):\n",
    "        p = multiprocessing.Process(target=worker, args=(i,))\n",
    "        processes.append(p)\n",
    "        p.start()\n",
    "\n",
    "    # Wait for all processes to complete\n",
    "    for p in processes:\n",
    "        p.join()\n"
   ]
  },
  {
   "cell_type": "code",
   "execution_count": null,
   "id": "f984d763-8325-4ffb-9508-709f49deab4e",
   "metadata": {},
   "outputs": [],
   "source": [
    "#Q4\n",
    "\n",
    "'''A multiprocessing pool in Python is a tool provided by the multiprocessing module to execute a function or method with a specified set of input arguments across multiple processes concurrently.'''\n",
    "\n",
    "1.Simplified programming: The multiprocessing pool provides a high-level interface that simplifies the process of parallelizing tasks across multiple processors.\n",
    "\n",
    "2.Automatic load balancing: The pool automatically distributes tasks among the available processes, ensuring that the workload is evenly distributed across all processors.\n",
    "\n",
    "3.Improved performance: By executing tasks in parallel, multiprocessing pool can significantly reduce the overall execution time of a program, leading to improved performance.\n",
    "\n",
    "4.Avoiding deadlocks: Multiprocessing pool includes mechanisms to avoid deadlocks, such as using a task queue to prevent multiple processes from attempting to acquire the same resource simultaneously."
   ]
  },
  {
   "cell_type": "code",
   "execution_count": 1,
   "id": "215e9d9b-099f-4fb1-87ac-f74979654ca5",
   "metadata": {},
   "outputs": [
    {
     "name": "stdout",
     "output_type": "stream",
     "text": [
      "[1, 4, 9, 16, 25, 36, 49, 64, 81, 100]\n"
     ]
    }
   ],
   "source": [
    "#Q5\n",
    "import multiprocessing\n",
    "\n",
    "# Define a function that will be executed by the worker processes\n",
    "def process_data(data):\n",
    "    processed_data=data**2    \n",
    "    return processed_data\n",
    "\n",
    "# Prepare the input data for the function\n",
    "input_data = [1, 2, 3, 4, 5, 6, 7, 8, 9, 10]\n",
    "\n",
    "# Create a Pool object with the desired number of worker processes\n",
    "num_processes = 4\n",
    "pool = multiprocessing.Pool(processes=num_processes)\n",
    "\n",
    "# Use the map() method of the Pool object to execute the function with the input data\n",
    "results = pool.map(process_data, input_data)\n",
    "\n",
    "# Close the pool to free up resources\n",
    "pool.close()\n",
    "pool.join()\n",
    "\n",
    "# Print the results\n",
    "print(results)\n"
   ]
  },
  {
   "cell_type": "code",
   "execution_count": null,
   "id": "578e9da1-af09-432b-b91b-f746f2dcae33",
   "metadata": {},
   "outputs": [],
   "source": [
    "#Q6\n"
   ]
  }
 ],
 "metadata": {
  "kernelspec": {
   "display_name": "Python 3 (ipykernel)",
   "language": "python",
   "name": "python3"
  },
  "language_info": {
   "codemirror_mode": {
    "name": "ipython",
    "version": 3
   },
   "file_extension": ".py",
   "mimetype": "text/x-python",
   "name": "python",
   "nbconvert_exporter": "python",
   "pygments_lexer": "ipython3",
   "version": "3.10.8"
  }
 },
 "nbformat": 4,
 "nbformat_minor": 5
}
